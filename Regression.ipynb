{
 "cells": [
  {
   "cell_type": "markdown",
   "metadata": {
    "colab": {},
    "colab_type": "code",
    "id": "jcajlP0Zc1yb"
   },
   "source": [
    "Best Mean Cross Validation Score is 0.9023351308126177 for VotingRegressor\n",
    "\n",
    "Train score is 0.954370343397647\n",
    "\n",
    "Test score is 0.8887082400299998\n",
    "\n",
    "VotingRegressor(estimators=[('gbc',\n",
    "                             GradientBoostingRegressor(alpha=0.9, ccp_alpha=0.0,\n",
    "                                                       criterion='friedman_mse',\n",
    "                                                       init=None,\n",
    "                                                       learning_rate=0.1,\n",
    "                                                       loss='ls', max_depth=3,\n",
    "                                                       max_features=None,\n",
    "                                                       max_leaf_nodes=None,\n",
    "                                                       min_impurity_decrease=0.0,\n",
    "                                                       min_impurity_split=None,\n",
    "                                                       min_samples_leaf=1,\n",
    "                                                       min_samples_split=2,\n",
    "                                                       min_weight_fraction_leaf=0.0,\n",
    "                                                       n_estimators=600,\n",
    "                                                       n_iter_no_change=...\n",
    "                             BaggingRegressor(base_estimator=SVR(C=100,\n",
    "                                                                 cache_size=200,\n",
    "                                                                 coef0=0.0,\n",
    "                                                                 degree=1,\n",
    "                                                                 epsilon=0.1,\n",
    "                                                                 gamma=100,\n",
    "                                                                 kernel='poly',\n",
    "                                                                 max_iter=-1,\n",
    "                                                                 shrinking=True,\n",
    "                                                                 tol=0.001,\n",
    "                                                                 verbose=False),\n",
    "                                              bootstrap=False,\n",
    "                                              bootstrap_features=False,\n",
    "                                              max_features=1.0, max_samples=1.0,\n",
    "                                              n_estimators=10, n_jobs=None,\n",
    "                                              oob_score=False, random_state=0,\n",
    "                                              verbose=0, warm_start=False))],\n",
    "                n_jobs=None, weights=None)\n",
    "   \n",
    "   \n",
    "   \n",
    "XGB\n",
    "Best Mean Cross Validation Score is 0.9007594283911888\n",
    "Best Mean Cross Validation Score is {'learning_rate': 0.05, 'max_depth': 4, 'min_child_weight': 0.1, 'n_estimators': 500, 'subsample': 0.8}\n",
    "Train score is 0.9889975064645601\n",
    "Test score is 0.889792236430764"
   ]
  },
  {
   "cell_type": "code",
   "execution_count": null,
   "metadata": {
    "colab": {},
    "colab_type": "code",
    "id": "ZLaWt0sqgAH6"
   },
   "outputs": [],
   "source": []
  },
  {
   "cell_type": "code",
   "execution_count": null,
   "metadata": {
    "colab": {},
    "colab_type": "code",
    "id": "zbBRs-eydGYf"
   },
   "outputs": [],
   "source": []
  },
  {
   "cell_type": "markdown",
   "metadata": {
    "colab_type": "text",
    "id": "nrYeC0sWc1yi"
   },
   "source": [
    "# Results\n",
    "- Models used with hyperparameters \n",
    "- Best Model parameters \n",
    "- Mean Cross validation score of Best model\n",
    "- Test score of best model \n",
    "- Train score of best model "
   ]
  },
  {
   "cell_type": "markdown",
   "metadata": {
    "colab_type": "text",
    "id": "2hAYpKCsc1yi"
   },
   "source": [
    "## Data PreProcessing"
   ]
  },
  {
   "cell_type": "code",
   "execution_count": 3,
   "metadata": {
    "ExecuteTime": {
     "end_time": "2020-03-09T07:32:49.555666Z",
     "start_time": "2020-03-09T07:32:49.545638Z"
    },
    "colab": {},
    "colab_type": "code",
    "id": "MFzsB30Oc1yj"
   },
   "outputs": [],
   "source": [
    "from math import sqrt\n",
    "import pandas as pd\n",
    "import numpy as np\n",
    "import matplotlib.pyplot as plt\n",
    "import seaborn as sns\n",
    "import scipy.stats as stats\n",
    "\n",
    "pd.pandas.set_option('display.max_columns', None)\n",
    "%matplotlib inline"
   ]
  },
  {
   "cell_type": "markdown",
   "metadata": {
    "colab_type": "text",
    "id": "5Ld8xW6ic1yo"
   },
   "source": [
    "### Load Datasets"
   ]
  },
  {
   "cell_type": "code",
   "execution_count": 4,
   "metadata": {
    "ExecuteTime": {
     "end_time": "2020-03-09T07:32:50.854852Z",
     "start_time": "2020-03-09T07:32:50.812739Z"
    },
    "colab": {},
    "colab_type": "code",
    "id": "2aBAjHr-c1yo"
   },
   "outputs": [],
   "source": [
    "# load dataset\n",
    "# your code here\n",
    "data = pd.read_csv('houseprice.csv')\n"
   ]
  },
  {
   "cell_type": "code",
   "execution_count": null,
   "metadata": {
    "colab": {},
    "colab_type": "code",
    "id": "izTgthiYWxiH"
   },
   "outputs": [],
   "source": []
  },
  {
   "cell_type": "markdown",
   "metadata": {
    "colab_type": "text",
    "id": "bHpr60Gxc1yx"
   },
   "source": [
    "### Types of variables\n",
    "\n"
   ]
  },
  {
   "cell_type": "code",
   "execution_count": 5,
   "metadata": {
    "ExecuteTime": {
     "end_time": "2020-03-09T07:32:51.725905Z",
     "start_time": "2020-03-09T07:32:51.719889Z"
    },
    "colab": {
     "base_uri": "https://localhost:8080/",
     "height": 50
    },
    "colab_type": "code",
    "id": "LWbwvDjWc1yy",
    "outputId": "a6974b1b-de27-4fe9-a8bc-51a479f5ba66"
   },
   "outputs": [
    {
     "name": "stdout",
     "output_type": "stream",
     "text": [
      "Number of House Id labels:  1460\n",
      "Number of Houses in the Dataset:  1460\n"
     ]
    }
   ],
   "source": [
    "# we have an Id variable, that we should not use for predictions:\n",
    "\n",
    "print('Number of House Id labels: ', len(data.Id.unique()))\n",
    "print('Number of Houses in the Dataset: ', len(data))"
   ]
  },
  {
   "cell_type": "markdown",
   "metadata": {
    "colab_type": "text",
    "id": "0QfDlbVsc1y9"
   },
   "source": [
    "#### Find categorical variables"
   ]
  },
  {
   "cell_type": "code",
   "execution_count": 6,
   "metadata": {
    "ExecuteTime": {
     "end_time": "2020-03-09T07:32:53.140553Z",
     "start_time": "2020-03-09T07:32:53.135036Z"
    },
    "colab": {
     "base_uri": "https://localhost:8080/",
     "height": 33
    },
    "colab_type": "code",
    "id": "JUkLK4Hcc1y-",
    "outputId": "79d0ecce-4635-4a91-e510-06a6b6f52b4c"
   },
   "outputs": [
    {
     "name": "stdout",
     "output_type": "stream",
     "text": [
      "There are 43 categorical variables\n"
     ]
    }
   ],
   "source": [
    "# find categorical variables- hint data type = 'O'\n",
    "\n",
    "categorical = [var for var in data.columns if data[var].dtype=='O']\n",
    "\n",
    "print(f'There are {len(categorical)} categorical variables')"
   ]
  },
  {
   "cell_type": "markdown",
   "metadata": {
    "colab_type": "text",
    "id": "gO6PDhZuc1zD"
   },
   "source": [
    "#### Find temporal variables"
   ]
  },
  {
   "cell_type": "code",
   "execution_count": 7,
   "metadata": {
    "ExecuteTime": {
     "end_time": "2020-03-09T07:32:54.328164Z",
     "start_time": "2020-03-09T07:32:54.321146Z"
    },
    "colab": {
     "base_uri": "https://localhost:8080/",
     "height": 33
    },
    "colab_type": "code",
    "id": "cbUHSkcDc1zE",
    "outputId": "a08a0f0b-f6f0-49e2-f33f-e3fc0256d91b"
   },
   "outputs": [
    {
     "data": {
      "text/plain": [
       "['YearBuilt', 'YearRemodAdd', 'GarageYrBlt', 'YrSold']"
      ]
     },
     "execution_count": 7,
     "metadata": {},
     "output_type": "execute_result"
    }
   ],
   "source": [
    "# make a list of the numerical variables first= Hint data type != O\n",
    "numerical = [var for var in data.columns if data[var].dtype!='O']\n",
    "\n",
    "# list of variables that contain year information= Hint variable namme has Yr or \n",
    "year_vars = [var for var in numerical if 'Yr' in var or 'Year' in var]\n",
    "\n",
    "year_vars"
   ]
  },
  {
   "cell_type": "markdown",
   "metadata": {
    "colab_type": "text",
    "id": "zzamNZTSc1zO"
   },
   "source": [
    "#### Find discrete variables\n",
    "\n",
    "To identify discrete variables- numerical variables with less than 20 unique values "
   ]
  },
  {
   "cell_type": "code",
   "execution_count": 8,
   "metadata": {
    "ExecuteTime": {
     "end_time": "2020-03-09T07:32:55.849304Z",
     "start_time": "2020-03-09T07:32:55.835765Z"
    },
    "colab": {
     "base_uri": "https://localhost:8080/",
     "height": 33
    },
    "colab_type": "code",
    "id": "7IdskSbPc1zO",
    "outputId": "598c7f0c-0064-4e32-e5a8-8c28cfb56554"
   },
   "outputs": [
    {
     "name": "stdout",
     "output_type": "stream",
     "text": [
      "There are 14 discrete variables\n"
     ]
    }
   ],
   "source": [
    "# let's visualise the values of the discrete variables\n",
    "discrete = [var for var in numerical if len(data[var].unique()) < 20 and var not in year_vars]\n",
    "\n",
    "print(f'There are {len(discrete)} discrete variables')"
   ]
  },
  {
   "cell_type": "markdown",
   "metadata": {
    "colab_type": "text",
    "id": "VyjcjkIbc1zV"
   },
   "source": [
    "#### Continuous variables"
   ]
  },
  {
   "cell_type": "code",
   "execution_count": 9,
   "metadata": {
    "ExecuteTime": {
     "end_time": "2020-03-09T07:32:57.274949Z",
     "start_time": "2020-03-09T07:32:57.268932Z"
    },
    "colab": {
     "base_uri": "https://localhost:8080/",
     "height": 33
    },
    "colab_type": "code",
    "id": "R5V9_-xZc1za",
    "outputId": "3e680119-9f69-4328-804f-3c1d1df18730"
   },
   "outputs": [
    {
     "name": "stdout",
     "output_type": "stream",
     "text": [
      "There are 38 numerical and continuous variables\n"
     ]
    }
   ],
   "source": [
    "# find continuous variables- hint numerical variables not in discrete and  year_years \n",
    "# Also remove the Id variable and the target variable SalePrice\n",
    "# which are both also numerical\n",
    "\n",
    "continuous = [var for var in numerical if var not in discrete and var not in [\n",
    "    'Id', 'SalePrice'] and var not in year_vars]\n",
    "\n",
    "print('There are {} numerical and continuous variables'.format(len(numerical)))"
   ]
  },
  {
   "cell_type": "markdown",
   "metadata": {
    "colab_type": "text",
    "id": "Mx37lYuzc1zi"
   },
   "source": [
    "### Separate train and test set"
   ]
  },
  {
   "cell_type": "code",
   "execution_count": 10,
   "metadata": {
    "ExecuteTime": {
     "end_time": "2020-03-09T07:32:58.666697Z",
     "start_time": "2020-03-09T07:32:58.651653Z"
    },
    "colab": {
     "base_uri": "https://localhost:8080/",
     "height": 33
    },
    "colab_type": "code",
    "id": "sVKlsr6-c1zj",
    "outputId": "5a0a98c5-02c4-4caf-ce77-92b304149a1d"
   },
   "outputs": [
    {
     "data": {
      "text/plain": [
       "((1314, 79), (146, 79))"
      ]
     },
     "execution_count": 10,
     "metadata": {},
     "output_type": "execute_result"
    }
   ],
   "source": [
    "# Let's separate into train and test set\n",
    "from sklearn.model_selection import train_test_split\n",
    "X_train, X_test, y_train, y_test = train_test_split(data.drop(['Id', 'SalePrice'], axis=1),\n",
    "                                                    data['SalePrice'],\n",
    "                                                    test_size=0.1,\n",
    "                                                    random_state=0)\n",
    "\n",
    "X_train.shape, X_test.shape"
   ]
  },
  {
   "cell_type": "markdown",
   "metadata": {
    "colab_type": "text",
    "id": "qCdXcm5gc1zu"
   },
   "source": [
    "**Now we will move on and engineer the features of this dataset. The most important part for this course.**"
   ]
  },
  {
   "cell_type": "markdown",
   "metadata": {
    "colab_type": "text",
    "id": "Hsqf2zqZc1zv"
   },
   "source": [
    "### Craete New Variables\n",
    "\n",
    "Replace 'YearBuilt', 'YearRemodAdd', 'GarageYrBlt  with time elapsed since YrSold\n",
    "So YearBuilt = YrSold-YearBuilt. \n",
    "\n",
    "Similarly transform 'YearRemodAdd', 'GarageYrBlt.\n",
    "After making transformation drop YrSold"
   ]
  },
  {
   "cell_type": "code",
   "execution_count": 11,
   "metadata": {
    "ExecuteTime": {
     "end_time": "2020-03-09T07:33:00.776674Z",
     "start_time": "2020-03-09T07:33:00.771663Z"
    },
    "colab": {},
    "colab_type": "code",
    "id": "MgE-4acMc1zw"
   },
   "outputs": [],
   "source": [
    "# function to calculate elapsed time\n",
    "\n",
    "def elapsed_years(df, var):\n",
    "    # capture difference between year variable and\n",
    "    # year the house was sold\n",
    "    \n",
    "    df[var] = df['YrSold'] - df[var]\n",
    "    return df"
   ]
  },
  {
   "cell_type": "code",
   "execution_count": 12,
   "metadata": {
    "ExecuteTime": {
     "end_time": "2020-03-09T07:33:02.547542Z",
     "start_time": "2020-03-09T07:33:02.540522Z"
    },
    "colab": {},
    "colab_type": "code",
    "id": "-Z_BQYntc1z2"
   },
   "outputs": [],
   "source": [
    "for var in ['YearBuilt', 'YearRemodAdd', 'GarageYrBlt']:\n",
    "    X_train = elapsed_years(X_train, var)\n",
    "    X_test = elapsed_years(X_test, var)"
   ]
  },
  {
   "cell_type": "code",
   "execution_count": 13,
   "metadata": {
    "ExecuteTime": {
     "end_time": "2020-03-09T07:33:03.567722Z",
     "start_time": "2020-03-09T07:33:03.559698Z"
    },
    "colab": {},
    "colab_type": "code",
    "id": "EprVFCN9c1z5"
   },
   "outputs": [],
   "source": [
    "# drop YrSold\n",
    "X_train.drop('YrSold', axis=1, inplace=True)\n",
    "X_test.drop('YrSold', axis=1, inplace=True)"
   ]
  },
  {
   "cell_type": "code",
   "execution_count": 14,
   "metadata": {
    "ExecuteTime": {
     "end_time": "2020-03-09T07:33:04.982369Z",
     "start_time": "2020-03-09T07:33:04.978849Z"
    },
    "colab": {},
    "colab_type": "code",
    "id": "KrHZrP3Vc1z-"
   },
   "outputs": [],
   "source": [
    "year_vars.remove('YrSold')"
   ]
  },
  {
   "cell_type": "code",
   "execution_count": 15,
   "metadata": {
    "ExecuteTime": {
     "end_time": "2020-03-09T07:33:05.869066Z",
     "start_time": "2020-03-09T07:33:05.863050Z"
    },
    "colab": {
     "base_uri": "https://localhost:8080/",
     "height": 302
    },
    "colab_type": "code",
    "id": "u9YNffenc10B",
    "outputId": "bfe3b299-405c-4cc3-c23b-578c5c83703e"
   },
   "outputs": [
    {
     "data": {
      "text/plain": [
       "Index(['MSSubClass', 'MSZoning', 'LotFrontage', 'LotArea', 'Street', 'Alley',\n",
       "       'LotShape', 'LandContour', 'Utilities', 'LotConfig', 'LandSlope',\n",
       "       'Neighborhood', 'Condition1', 'Condition2', 'BldgType', 'HouseStyle',\n",
       "       'OverallQual', 'OverallCond', 'YearBuilt', 'YearRemodAdd', 'RoofStyle',\n",
       "       'RoofMatl', 'Exterior1st', 'Exterior2nd', 'MasVnrType', 'MasVnrArea',\n",
       "       'ExterQual', 'ExterCond', 'Foundation', 'BsmtQual', 'BsmtCond',\n",
       "       'BsmtExposure', 'BsmtFinType1', 'BsmtFinSF1', 'BsmtFinType2',\n",
       "       'BsmtFinSF2', 'BsmtUnfSF', 'TotalBsmtSF', 'Heating', 'HeatingQC',\n",
       "       'CentralAir', 'Electrical', '1stFlrSF', '2ndFlrSF', 'LowQualFinSF',\n",
       "       'GrLivArea', 'BsmtFullBath', 'BsmtHalfBath', 'FullBath', 'HalfBath',\n",
       "       'BedroomAbvGr', 'KitchenAbvGr', 'KitchenQual', 'TotRmsAbvGrd',\n",
       "       'Functional', 'Fireplaces', 'FireplaceQu', 'GarageType', 'GarageYrBlt',\n",
       "       'GarageFinish', 'GarageCars', 'GarageArea', 'GarageQual', 'GarageCond',\n",
       "       'PavedDrive', 'WoodDeckSF', 'OpenPorchSF', 'EnclosedPorch', '3SsnPorch',\n",
       "       'ScreenPorch', 'PoolArea', 'PoolQC', 'Fence', 'MiscFeature', 'MiscVal',\n",
       "       'MoSold', 'SaleType', 'SaleCondition'],\n",
       "      dtype='object')"
      ]
     },
     "execution_count": 15,
     "metadata": {},
     "output_type": "execute_result"
    }
   ],
   "source": [
    "# capture the column names for use later in the notebook\n",
    "final_columns = X_train.columns\n",
    "final_columns"
   ]
  },
  {
   "cell_type": "markdown",
   "metadata": {
    "colab_type": "text",
    "id": "Q87P_YeXc10G"
   },
   "source": [
    "### Feature Engineering Pipeline"
   ]
  },
  {
   "cell_type": "code",
   "execution_count": 16,
   "metadata": {
    "ExecuteTime": {
     "end_time": "2020-03-09T07:33:07.930697Z",
     "start_time": "2020-03-09T07:33:07.909638Z"
    },
    "colab": {},
    "colab_type": "code",
    "id": "dh9BoYw-c10H"
   },
   "outputs": [],
   "source": [
    "# I will treat discrete variables as if they were categorical\n",
    "# to treat discrete as categorical using Feature-engine\n",
    "# we need to re-cast them as object\n",
    "\n",
    "X_train[discrete] = X_train[discrete].astype('O')\n",
    "X_test[discrete] = X_test[discrete].astype('O')"
   ]
  },
  {
   "cell_type": "code",
   "execution_count": 17,
   "metadata": {
    "ExecuteTime": {
     "end_time": "2020-03-09T07:33:10.023580Z",
     "start_time": "2020-03-09T07:33:10.018569Z"
    },
    "colab": {
     "base_uri": "https://localhost:8080/",
     "height": 540
    },
    "colab_type": "code",
    "id": "Cm6psyEOc10N",
    "outputId": "84bdb377-ec8c-429d-a6a2-ea4230001f1f"
   },
   "outputs": [
    {
     "name": "stdout",
     "output_type": "stream",
     "text": [
      "Requirement already satisfied: feature_engine in c:\\users\\k_tej\\appdata\\local\\programs\\python\\python37\\lib\\site-packages (0.3.1)\n",
      "Requirement already satisfied: pandas>=0.23.0 in c:\\users\\k_tej\\appdata\\local\\programs\\python\\python37\\lib\\site-packages (from feature_engine) (0.25.3)\n",
      "Requirement already satisfied: scipy>=0.19.0 in c:\\users\\k_tej\\appdata\\local\\programs\\python\\python37\\lib\\site-packages (from feature_engine) (1.4.1)\n",
      "Requirement already satisfied: scikit-learn>=0.18.1 in c:\\users\\k_tej\\appdata\\local\\programs\\python\\python37\\lib\\site-packages (from feature_engine) (0.22.2.post1)\n",
      "Requirement already satisfied: statsmodels>=0.8.0 in c:\\users\\k_tej\\appdata\\local\\programs\\python\\python37\\lib\\site-packages (from feature_engine) (0.11.1)\n",
      "Requirement already satisfied: numpy>=1.12.1 in c:\\users\\k_tej\\appdata\\local\\programs\\python\\python37\\lib\\site-packages (from feature_engine) (1.17.4)\n",
      "Requirement already satisfied: numpydoc>=0.6.0 in c:\\users\\k_tej\\appdata\\local\\programs\\python\\python37\\lib\\site-packages (from feature_engine) (0.9.2)\n",
      "Requirement already satisfied: python-dateutil>=2.6.1 in c:\\users\\k_tej\\appdata\\local\\programs\\python\\python37\\lib\\site-packages (from pandas>=0.23.0->feature_engine) (2.8.1)\n",
      "Requirement already satisfied: pytz>=2017.2 in c:\\users\\k_tej\\appdata\\local\\programs\\python\\python37\\lib\\site-packages (from pandas>=0.23.0->feature_engine) (2019.3)\n",
      "Requirement already satisfied: joblib>=0.11 in c:\\users\\k_tej\\appdata\\local\\programs\\python\\python37\\lib\\site-packages (from scikit-learn>=0.18.1->feature_engine) (0.14.0)\n",
      "Requirement already satisfied: patsy>=0.5 in c:\\users\\k_tej\\appdata\\local\\programs\\python\\python37\\lib\\site-packages (from statsmodels>=0.8.0->feature_engine) (0.5.1)\n",
      "Requirement already satisfied: sphinx>=1.6.5 in c:\\users\\k_tej\\appdata\\local\\programs\\python\\python37\\lib\\site-packages (from numpydoc>=0.6.0->feature_engine) (3.0.0)\n",
      "Requirement already satisfied: Jinja2>=2.3 in c:\\users\\k_tej\\appdata\\local\\programs\\python\\python37\\lib\\site-packages (from numpydoc>=0.6.0->feature_engine) (2.10.3)\n",
      "Requirement already satisfied: six>=1.5 in c:\\users\\k_tej\\appdata\\local\\programs\\python\\python37\\lib\\site-packages (from python-dateutil>=2.6.1->pandas>=0.23.0->feature_engine) (1.13.0)\n",
      "Requirement already satisfied: sphinxcontrib-jsmath in c:\\users\\k_tej\\appdata\\local\\programs\\python\\python37\\lib\\site-packages (from sphinx>=1.6.5->numpydoc>=0.6.0->feature_engine) (1.0.1)\n",
      "Requirement already satisfied: Pygments>=2.0 in c:\\users\\k_tej\\appdata\\local\\programs\\python\\python37\\lib\\site-packages (from sphinx>=1.6.5->numpydoc>=0.6.0->feature_engine) (2.4.2)\n",
      "Requirement already satisfied: packaging in c:\\users\\k_tej\\appdata\\local\\programs\\python\\python37\\lib\\site-packages (from sphinx>=1.6.5->numpydoc>=0.6.0->feature_engine) (20.3)\n",
      "Requirement already satisfied: sphinxcontrib-devhelp in c:\\users\\k_tej\\appdata\\local\\programs\\python\\python37\\lib\\site-packages (from sphinx>=1.6.5->numpydoc>=0.6.0->feature_engine) (1.0.2)\n",
      "Requirement already satisfied: sphinxcontrib-applehelp in c:\\users\\k_tej\\appdata\\local\\programs\\python\\python37\\lib\\site-packages (from sphinx>=1.6.5->numpydoc>=0.6.0->feature_engine) (1.0.2)\n",
      "Requirement already satisfied: sphinxcontrib-qthelp in c:\\users\\k_tej\\appdata\\local\\programs\\python\\python37\\lib\\site-packages (from sphinx>=1.6.5->numpydoc>=0.6.0->feature_engine) (1.0.3)\n",
      "Requirement already satisfied: snowballstemmer>=1.1 in c:\\users\\k_tej\\appdata\\local\\programs\\python\\python37\\lib\\site-packages (from sphinx>=1.6.5->numpydoc>=0.6.0->feature_engine) (2.0.0)\n",
      "Requirement already satisfied: babel>=1.3 in c:\\users\\k_tej\\appdata\\local\\programs\\python\\python37\\lib\\site-packages (from sphinx>=1.6.5->numpydoc>=0.6.0->feature_engine) (2.8.0)\n",
      "Requirement already satisfied: colorama>=0.3.5; sys_platform == \"win32\" in c:\\users\\k_tej\\appdata\\local\\programs\\python\\python37\\lib\\site-packages (from sphinx>=1.6.5->numpydoc>=0.6.0->feature_engine) (0.4.1)\n",
      "Requirement already satisfied: requests>=2.5.0 in c:\\users\\k_tej\\appdata\\local\\programs\\python\\python37\\lib\\site-packages (from sphinx>=1.6.5->numpydoc>=0.6.0->feature_engine) (2.22.0)\n",
      "Requirement already satisfied: alabaster<0.8,>=0.7 in c:\\users\\k_tej\\appdata\\local\\programs\\python\\python37\\lib\\site-packages (from sphinx>=1.6.5->numpydoc>=0.6.0->feature_engine) (0.7.12)\n",
      "Requirement already satisfied: sphinxcontrib-serializinghtml in c:\\users\\k_tej\\appdata\\local\\programs\\python\\python37\\lib\\site-packages (from sphinx>=1.6.5->numpydoc>=0.6.0->feature_engine) (1.1.4)\n",
      "Requirement already satisfied: docutils>=0.12 in c:\\users\\k_tej\\appdata\\local\\programs\\python\\python37\\lib\\site-packages (from sphinx>=1.6.5->numpydoc>=0.6.0->feature_engine) (0.15.2)\n",
      "Requirement already satisfied: setuptools in c:\\users\\k_tej\\appdata\\local\\programs\\python\\python37\\lib\\site-packages (from sphinx>=1.6.5->numpydoc>=0.6.0->feature_engine) (41.2.0)\n",
      "Requirement already satisfied: sphinxcontrib-htmlhelp in c:\\users\\k_tej\\appdata\\local\\programs\\python\\python37\\lib\\site-packages (from sphinx>=1.6.5->numpydoc>=0.6.0->feature_engine) (1.0.3)\n",
      "Requirement already satisfied: imagesize in c:\\users\\k_tej\\appdata\\local\\programs\\python\\python37\\lib\\site-packages (from sphinx>=1.6.5->numpydoc>=0.6.0->feature_engine) (1.2.0)\n",
      "Requirement already satisfied: MarkupSafe>=0.23 in c:\\users\\k_tej\\appdata\\local\\programs\\python\\python37\\lib\\site-packages (from Jinja2>=2.3->numpydoc>=0.6.0->feature_engine) (1.1.1)\n",
      "Requirement already satisfied: pyparsing>=2.0.2 in c:\\users\\k_tej\\appdata\\local\\programs\\python\\python37\\lib\\site-packages (from packaging->sphinx>=1.6.5->numpydoc>=0.6.0->feature_engine) (2.4.5)\n",
      "Requirement already satisfied: urllib3!=1.25.0,!=1.25.1,<1.26,>=1.21.1 in c:\\users\\k_tej\\appdata\\local\\programs\\python\\python37\\lib\\site-packages (from requests>=2.5.0->sphinx>=1.6.5->numpydoc>=0.6.0->feature_engine) (1.25.7)\n",
      "Requirement already satisfied: certifi>=2017.4.17 in c:\\users\\k_tej\\appdata\\local\\programs\\python\\python37\\lib\\site-packages (from requests>=2.5.0->sphinx>=1.6.5->numpydoc>=0.6.0->feature_engine) (2019.9.11)\n",
      "Requirement already satisfied: chardet<3.1.0,>=3.0.2 in c:\\users\\k_tej\\appdata\\local\\programs\\python\\python37\\lib\\site-packages (from requests>=2.5.0->sphinx>=1.6.5->numpydoc>=0.6.0->feature_engine) (3.0.4)\n",
      "Requirement already satisfied: idna<2.9,>=2.5 in c:\\users\\k_tej\\appdata\\local\\programs\\python\\python37\\lib\\site-packages (from requests>=2.5.0->sphinx>=1.6.5->numpydoc>=0.6.0->feature_engine) (2.8)\n"
     ]
    }
   ],
   "source": [
    "# import relevant modules for feature engineering\n",
    "!pip install feature_engine\n",
    "from sklearn.pipeline import Pipeline\n",
    "from sklearn.preprocessing import StandardScaler\n",
    "from feature_engine import missing_data_imputers as mdi\n",
    "from feature_engine import categorical_encoders as ce\n",
    "from feature_engine.variable_transformers import YeoJohnsonTransformer\n",
    "from sklearn.preprocessing import StandardScaler\n",
    "from feature_engine.discretisers import DecisionTreeDiscretiser"
   ]
  },
  {
   "cell_type": "code",
   "execution_count": 18,
   "metadata": {
    "ExecuteTime": {
     "end_time": "2020-03-09T07:33:11.578215Z",
     "start_time": "2020-03-09T07:33:11.570194Z"
    },
    "colab": {},
    "colab_type": "code",
    "id": "uMIsd-wTc10Q"
   },
   "outputs": [],
   "source": [
    "house_preprocess = Pipeline([\n",
    "    \n",
    "    # missing data imputation \n",
    "    ('missing_ind', mdi.AddNaNBinaryImputer(\n",
    "        variables=['LotFrontage', 'MasVnrArea',  'GarageYrBlt'])),\n",
    "    ('imputer_num', mdi.MeanMedianImputer(imputation_method='mean',\n",
    "                                          variables=['LotFrontage', 'MasVnrArea',  'GarageYrBlt'])),\n",
    "    ('imputer_cat', mdi.CategoricalVariableImputer(variables=categorical)),\n",
    "\n",
    "    # categorical encoding \n",
    "     ('rare_label_enc', ce.RareLabelCategoricalEncoder(\n",
    "         tol=0.01,n_categories=6, variables=categorical+discrete)),\n",
    "    ('categorical_enc', ce.MeanCategoricalEncoder(variables = categorical + discrete)),\n",
    "     \n",
    "    # Transforming Numerical Variables\n",
    "    ('yjt', YeoJohnsonTransformer(variables = ['LotFrontage','MasVnrArea', 'GarageYrBlt'])),\n",
    "\n",
    "    \n",
    "    # discretisation and encoding\n",
    "    ('treeDisc',  DecisionTreeDiscretiser(cv=2, scoring='neg_mean_squared_error',\n",
    "                                   regression=True,\n",
    "                                   param_grid={'max_depth': [1,2,3,4,5,6]})),\n",
    "\n",
    "    # feature Scaling\n",
    "    ('scaler', StandardScaler()),\n",
    "    \n",
    "    \n",
    "\n",
    "])"
   ]
  },
  {
   "cell_type": "code",
   "execution_count": 19,
   "metadata": {
    "ExecuteTime": {
     "end_time": "2020-03-09T07:33:18.934597Z",
     "start_time": "2020-03-09T07:33:15.096006Z"
    },
    "colab": {
     "base_uri": "https://localhost:8080/",
     "height": 486
    },
    "colab_type": "code",
    "id": "B9u1jY9Ic10T",
    "outputId": "779a9cac-bd5c-48f8-feb1-9eb7d2ca389c"
   },
   "outputs": [
    {
     "data": {
      "text/plain": [
       "Pipeline(memory=None,\n",
       "         steps=[('missing_ind',\n",
       "                 AddNaNBinaryImputer(variables=['LotFrontage', 'MasVnrArea',\n",
       "                                                'GarageYrBlt'])),\n",
       "                ('imputer_num',\n",
       "                 MeanMedianImputer(imputation_method='mean',\n",
       "                                   variables=['LotFrontage', 'MasVnrArea',\n",
       "                                              'GarageYrBlt'])),\n",
       "                ('imputer_cat',\n",
       "                 CategoricalVariableImputer(variables=['MSZoning', 'Street',\n",
       "                                                       'Alley', 'LotShape',\n",
       "                                                       'LandContour',\n",
       "                                                       'Utilities', '...\n",
       "                                                    'Utilities', 'LotConfig',\n",
       "                                                    'LandSlope', 'Neighborhood',\n",
       "                                                    'Condition1', 'Condition2',\n",
       "                                                    'BldgType', 'HouseStyle',\n",
       "                                                    'OverallQual',\n",
       "                                                    'OverallCond', 'YearBuilt',\n",
       "                                                    'YearRemodAdd', 'RoofStyle',\n",
       "                                                    'RoofMatl', 'Exterior1st',\n",
       "                                                    'Exterior2nd', 'MasVnrType',\n",
       "                                                    'MasVnrArea', 'ExterQual',\n",
       "                                                    'ExterCond', 'Foundation',\n",
       "                                                    'BsmtQual', ...])),\n",
       "                ('scaler',\n",
       "                 StandardScaler(copy=True, with_mean=True, with_std=True))],\n",
       "         verbose=False)"
      ]
     },
     "execution_count": 19,
     "metadata": {},
     "output_type": "execute_result"
    }
   ],
   "source": [
    "house_preprocess.fit(X_train,y_train)"
   ]
  },
  {
   "cell_type": "code",
   "execution_count": 20,
   "metadata": {
    "ExecuteTime": {
     "end_time": "2020-03-09T07:33:21.351997Z",
     "start_time": "2020-03-09T07:33:20.885744Z"
    },
    "colab": {},
    "colab_type": "code",
    "id": "M2togbt8c10X"
   },
   "outputs": [],
   "source": [
    "# Apply Transformations\n",
    "X_train=house_preprocess.transform(X_train)\n",
    "X_test=house_preprocess.transform(X_test)"
   ]
  },
  {
   "cell_type": "markdown",
   "metadata": {
    "colab_type": "text",
    "id": "wFUTfXF8c10b"
   },
   "source": [
    "## <span class=\"mark\">DO NOT CHANGE STEPS BEFORE THIS POINT</span>"
   ]
  },
  {
   "cell_type": "markdown",
   "metadata": {
    "ExecuteTime": {
     "end_time": "2020-03-09T04:00:12.095764Z",
     "start_time": "2020-03-09T04:00:12.093253Z"
    },
    "colab_type": "text",
    "id": "z7RKSiT8c10c"
   },
   "source": [
    "## Regression Models- Tune different models one by one"
   ]
  },
  {
   "cell_type": "code",
   "execution_count": 21,
   "metadata": {
    "ExecuteTime": {
     "end_time": "2020-03-09T07:33:23.368390Z",
     "start_time": "2020-03-09T07:33:23.292686Z"
    },
    "colab": {
     "base_uri": "https://localhost:8080/",
     "height": 67
    },
    "colab_type": "code",
    "id": "h2CvAj8sc10c",
    "outputId": "34f9a10b-5795-4d0f-f6d1-d3df0ece0408"
   },
   "outputs": [
    {
     "name": "stdout",
     "output_type": "stream",
     "text": [
      "Mean Cross-validation scores: [ 8.68307098e-01 -1.35390689e+21  8.77382386e-01  8.98230703e-01\n",
      "  8.92116636e-01]\n",
      "mean cv -2.707813789327641e+20\n"
     ]
    }
   ],
   "source": [
    "# Train a linear regression model, report the coefficients and model performance \n",
    "\n",
    "from sklearn.linear_model import LinearRegression\n",
    "from sklearn.model_selection import cross_val_score\n",
    "\n",
    "lr = LinearRegression().fit(X_train, y_train)\n",
    "lr_cv_scores = cross_val_score(lr, X_train, y_train, cv = 5)\n",
    "\n",
    "# Mean Cross validation Score\n",
    "print(\"Mean Cross-validation scores: {}\".format(lr_cv_scores))\n",
    "print(\"mean cv\",lr_cv_scores.mean())\n",
    "#print(\"Mean Cross-validation scores: {}\", cv_scores)\n",
    "# Print Co-efficients\n",
    "#print(\"lr.coef_:\", lr.coef_)\n",
    "#print(\"lr.intercept_:\", lr.intercept_)\n",
    "\n",
    "# Check test data set performance\n",
    "#print(\"LR Performance Test: \", lr.score(X_train,y_train))"
   ]
  },
  {
   "cell_type": "code",
   "execution_count": null,
   "metadata": {
    "colab": {},
    "colab_type": "code",
    "id": "BrKOsG8nc10g"
   },
   "outputs": [],
   "source": []
  },
  {
   "cell_type": "code",
   "execution_count": null,
   "metadata": {
    "colab": {},
    "colab_type": "code",
    "id": "tT49Ndayc10j"
   },
   "outputs": [],
   "source": []
  },
  {
   "cell_type": "code",
   "execution_count": 22,
   "metadata": {
    "colab": {
     "base_uri": "https://localhost:8080/",
     "height": 100
    },
    "colab_type": "code",
    "id": "MQkjvcGsc10o",
    "outputId": "a230bf08-4226-48e7-9a25-e87b41943dd6"
   },
   "outputs": [
    {
     "name": "stdout",
     "output_type": "stream",
     "text": [
      "Best Mean Cross-validation score: 0.8780\n",
      "[ 8.96942299e-01  9.04016819e-01  8.93682950e-01 -9.49226245e+04]\n",
      "\n",
      "SGD parameters:  {'sgd_reg__eta0': 0.05}\n",
      "grid_sgd Test Performance:  0.8630843012752047\n"
     ]
    }
   ],
   "source": [
    "# Train a SGD with GridSearchCV model, report the coefficients and model performance\n",
    "\n",
    "from sklearn.linear_model import SGDRegressor\n",
    "from sklearn.model_selection import GridSearchCV\n",
    "from sklearn.preprocessing import MinMaxScaler\n",
    "reg_sgd_pipe = Pipeline([\n",
    "\n",
    "    # feature Scaling\n",
    "    ('scaler', MinMaxScaler()),\n",
    "    # regression\n",
    "    ('sgd_reg', SGDRegressor(max_iter=10000, tol = 1e-6))\n",
    "])\n",
    "param_sgd = {'sgd_reg__eta0':[0.01, 0.05, 0.1 ,0.5]}\n",
    "grid_sgd = GridSearchCV(reg_sgd_pipe, param_sgd,cv=5, return_train_score = True)\n",
    "\n",
    "\n",
    "grid_sgd.fit(X_train, y_train)\n",
    "\n",
    "# Mean Cross Validation Score\n",
    "print(\"Best Mean Cross-validation score: {:.4f}\".format(grid_sgd.best_score_))\n",
    "print(grid_sgd.cv_results_['mean_train_score'])\n",
    "# let's get the predictions\n",
    "print()\n",
    "\n",
    "#find best parameters\n",
    "print('SGD parameters: ', grid_sgd.best_params_)\n",
    "\n",
    "# Check test data set performance\n",
    "\n",
    "print(\"grid_sgd Test Performance: \", grid_sgd.score(X_test,y_test))"
   ]
  },
  {
   "cell_type": "code",
   "execution_count": 23,
   "metadata": {
    "colab": {
     "base_uri": "https://localhost:8080/",
     "height": 33
    },
    "colab_type": "code",
    "id": "94oCieJ5c10u",
    "outputId": "7f929fcd-7289-46df-b096-6f1c2e86329b"
   },
   "outputs": [
    {
     "name": "stdout",
     "output_type": "stream",
     "text": [
      "[ 8.96942299e-01  9.04016819e-01  8.93682950e-01 -9.49226245e+04]\n"
     ]
    }
   ],
   "source": [
    "print(grid_sgd.cv_results_['mean_train_score'])"
   ]
  },
  {
   "cell_type": "code",
   "execution_count": 24,
   "metadata": {
    "ExecuteTime": {
     "end_time": "2020-03-09T07:33:32.923175Z",
     "start_time": "2020-03-09T07:33:32.720114Z"
    },
    "colab": {
     "base_uri": "https://localhost:8080/",
     "height": 67
    },
    "colab_type": "code",
    "id": "cQ8w96KOc10x",
    "outputId": "f82fdd19-2529-45db-d9f2-5c83561ede1e"
   },
   "outputs": [
    {
     "name": "stdout",
     "output_type": "stream",
     "text": [
      "Best Mean Cross-validation score: 0.88415\n",
      "\n",
      "Ridge Test Performance:  0.8731529205790176\n"
     ]
    }
   ],
   "source": [
    "# Train a Ridge regression model, report the coefficients, the best parameters, and model performance \n",
    "from sklearn.model_selection import GridSearchCV\n",
    "from sklearn.linear_model import Ridge\n",
    "ridge = Ridge()\n",
    "\n",
    "#define a list of parameters\n",
    "param_ridge = {'alpha':[0.001, 0.01, 0.1, 1, 10, 100] }\n",
    "\n",
    "grid_ridge = GridSearchCV(ridge, param_ridge, cv=5, return_train_score = True)\n",
    "grid_ridge.fit(X_train, y_train)\n",
    "\n",
    "# Mean Cross Validation Score\n",
    "print(\"Best Mean Cross-validation score: {:.5f}\".format(grid_ridge.best_score_))\n",
    "\n",
    "print()\n",
    "\n",
    "# Check test data set performance\n",
    "\n",
    "print(\"Ridge Test Performance: \", grid_ridge.score(X_test,y_test))"
   ]
  },
  {
   "cell_type": "code",
   "execution_count": 25,
   "metadata": {
    "ExecuteTime": {
     "end_time": "2020-03-09T07:33:38.130469Z",
     "start_time": "2020-03-09T07:33:37.468173Z"
    },
    "colab": {
     "base_uri": "https://localhost:8080/",
     "height": 67
    },
    "colab_type": "code",
    "id": "DY0C7kI1c103",
    "outputId": "a1ee91ec-b1b7-4458-a217-90c44e8feff6"
   },
   "outputs": [
    {
     "name": "stdout",
     "output_type": "stream",
     "text": [
      "Best Mean Cross-validation score: 0.8830\n",
      "\n",
      "Lasso Test Performance:  0.877253397774493\n"
     ]
    }
   ],
   "source": [
    "# Train a Lasso regression model, report the coefficients, the best parameters, and model performance \n",
    "\n",
    "# YOUR CODE HERE\n",
    "\n",
    "from sklearn.linear_model import Lasso\n",
    "lasso = Lasso(random_state=0)\n",
    "\n",
    "#define a list of parameters\n",
    "param_lasso = {'alpha':[0.001, 0.01, 0.1, 1, 10, 100] }\n",
    "\n",
    "grid_lasso = GridSearchCV(lasso, param_lasso, cv=5, return_train_score = True)\n",
    "grid_lasso.fit(X_train, y_train)\n",
    "\n",
    "# Mean Cross Validation Score\n",
    "print(\"Best Mean Cross-validation score: {:.4f}\".format(grid_lasso.best_score_))\n",
    "print()\n",
    "\n",
    "\n",
    "# Check test data set performance\n",
    "print(\"Lasso Test Performance: \", grid_lasso.score(X_test,y_test))"
   ]
  },
  {
   "cell_type": "code",
   "execution_count": 26,
   "metadata": {
    "colab": {
     "base_uri": "https://localhost:8080/",
     "height": 134
    },
    "colab_type": "code",
    "id": "8sPhjD1mc10_",
    "outputId": "10d2af37-61a4-45f0-b3dd-201726f58bd9"
   },
   "outputs": [
    {
     "name": "stdout",
     "output_type": "stream",
     "text": [
      "Fitting 5 folds for each of 32 candidates, totalling 160 fits\n"
     ]
    },
    {
     "name": "stderr",
     "output_type": "stream",
     "text": [
      "[Parallel(n_jobs=-1)]: Using backend LokyBackend with 12 concurrent workers.\n",
      "[Parallel(n_jobs=-1)]: Done  26 tasks      | elapsed:    2.6s\n"
     ]
    },
    {
     "name": "stdout",
     "output_type": "stream",
     "text": [
      "Best Mean Cross-validation score: 0.8841\n",
      "cv_results_['mean_test_score'].max() 0.8840700291378194\n",
      "grid_elasticnet Test Performance:  0.8730013625797747\n"
     ]
    },
    {
     "name": "stderr",
     "output_type": "stream",
     "text": [
      "[Parallel(n_jobs=-1)]: Done 160 out of 160 | elapsed:    3.2s finished\n"
     ]
    }
   ],
   "source": [
    "from sklearn.linear_model import ElasticNet\n",
    "\n",
    "elasticnet = ElasticNet()\n",
    "\n",
    "#define a list of parameters\n",
    "param_elasticnet = {'alpha':[0.00001,0.0001, 0.001, 0.01, 0.1, 1, 10,100], 'l1_ratio' :[0.2,0.4,0.6,0.8]}\n",
    "\n",
    "#grid_elasticnet = GridSearchCV(elasticnet , param_elasticnet, cv=5,verbose = 1, n_jobs = 2, scoring ='neg_root_mean_squared_error',return_train_score = True)\n",
    "grid_elasticnet1 = GridSearchCV(elasticnet , param_elasticnet, cv=5,verbose = 1, n_jobs = -1, return_train_score = True)\n",
    "\n",
    "#.fit(X_train, y_train)\n",
    "grid_elasticnet1.fit(X_train, y_train)\n",
    "# Mean Cross Validation Score\n",
    "\n",
    "#print(\"with  scoring\")\n",
    "#print(\"Best Mean Cross-validation score: {:.4f}\".format(grid_elasticnet.best_score_))\n",
    "#print(grid_elasticnet.cv_results_['mean_test_score'].max())\n",
    "\n",
    "#print(\"with out scoring\")\n",
    "print(\"Best Mean Cross-validation score: {:.4f}\".format(grid_elasticnet1.best_score_))\n",
    "print(\"cv_results_['mean_test_score'].max()\", grid_elasticnet1.cv_results_['mean_test_score'].max())\n",
    "\n",
    "\n",
    "#find best parameters\n",
    "#print('grid_elasticnet parameters: ', grid_elasticnet.best_params_)\n",
    "\n",
    "\n",
    "# Check test data set performance\n",
    "print(\"grid_elasticnet Test Performance: \", grid_elasticnet1.score(X_test,y_test))"
   ]
  },
  {
   "cell_type": "code",
   "execution_count": 27,
   "metadata": {
    "colab": {
     "base_uri": "https://localhost:8080/",
     "height": 137
    },
    "colab_type": "code",
    "id": "3dM0aJxIc11E",
    "outputId": "be92b82a-070b-4379-f78b-86483ec038a2"
   },
   "outputs": [
    {
     "name": "stdout",
     "output_type": "stream",
     "text": [
      "Best Mean Cross-validation score: -11113645668914992.0000\n",
      "Best parameters:  {'polynomialfeatures__degree': 2}\n",
      "train score:  0.9999955968564065\n",
      "test score:  -1114665781096955.6\n"
     ]
    }
   ],
   "source": [
    "from sklearn.preprocessing  import PolynomialFeatures\n",
    "poly = PolynomialFeatures()\n",
    "lreg = LinearRegression()\n",
    "from sklearn.pipeline import make_pipeline\n",
    "#define a list of parameters\n",
    "param_poly = {'polynomialfeatures__degree':range(1,4)}\n",
    "\n",
    "#apply polynomial regression in pipeline\n",
    "pipe_poly = make_pipeline(PolynomialFeatures(), LinearRegression())\n",
    "grid_poly = GridSearchCV(pipe_poly, param_poly,cv=5, n_jobs=-1,return_train_score = True)\n",
    "grid_poly.fit(X_train, y_train)\n",
    "\n",
    "#find best parameters\n",
    "#print('Mean test scores: ', grid_poly.cv_results_)\n",
    "\n",
    "# Mean Cross Validation Score\n",
    "print(\"Best Mean Cross-validation score: {:.4f}\".format(grid_poly.best_score_))\n",
    "\n",
    "print('Best parameters: ', grid_poly.best_params_)\n",
    "\n",
    "print('train score: ', grid_poly.score(X_train, y_train))\n",
    "print('test score: ', grid_poly.score(X_test, y_test))"
   ]
  },
  {
   "cell_type": "code",
   "execution_count": 28,
   "metadata": {
    "colab": {},
    "colab_type": "code",
    "id": "xl3qoeyIc11J"
   },
   "outputs": [],
   "source": [
    "#print('Mean test scores: ', grid_poly.cv_results_)"
   ]
  },
  {
   "cell_type": "code",
   "execution_count": 29,
   "metadata": {
    "colab": {
     "base_uri": "https://localhost:8080/",
     "height": 84
    },
    "colab_type": "code",
    "id": "EpOZdI4Sc11O",
    "outputId": "b40c7dae-032d-40da-92dc-4c97a029fe6b"
   },
   "outputs": [
    {
     "name": "stdout",
     "output_type": "stream",
     "text": [
      "train score:  0.8516070137143069\n",
      "test score:  0.7587863099604379\n",
      "Best parameters:  {'knnreg__n_neighbors': 6}\n",
      "Best cross-validation score: 0.78587417331835\n"
     ]
    }
   ],
   "source": [
    "from sklearn.neighbors import KNeighborsRegressor\n",
    "\n",
    "pipe_knn=Pipeline([ \n",
    "    ('scaler',MinMaxScaler()),\n",
    "    ('knnreg', KNeighborsRegressor())\n",
    "    \n",
    "])\n",
    "# define a list of parameters\n",
    "param_knn = {'knnreg__n_neighbors': [5, 6,7]}\n",
    "#param_knn = {'knnreg__n_neighbors': range(1,25)}\n",
    "\n",
    "#apply grid search\n",
    "grid_knn = GridSearchCV(pipe_knn, param_knn, cv=5, n_jobs = -1, return_train_score=True)\n",
    "grid_knn.fit(X_train, y_train)\n",
    "\n",
    "print('train score: ', grid_knn.score(X_train, y_train))\n",
    "print('test score: ', grid_knn.score(X_test, y_test))\n",
    "\n",
    "#find best parameters\n",
    "print('Best parameters: ', grid_knn.best_params_)\n",
    "print('Best cross-validation score:', grid_knn.best_score_)"
   ]
  },
  {
   "cell_type": "code",
   "execution_count": 30,
   "metadata": {
    "colab": {},
    "colab_type": "code",
    "id": "CVMe3Sibc11S"
   },
   "outputs": [],
   "source": [
    "#GridSearchCV(pipe_poly, param_poly,cv=5, n_jobs=-1,return_train_score = True)"
   ]
  },
  {
   "cell_type": "markdown",
   "metadata": {
    "colab_type": "text",
    "id": "8ZjL4zK3c11V"
   },
   "source": [
    "SVM"
   ]
  },
  {
   "cell_type": "code",
   "execution_count": 31,
   "metadata": {
    "colab": {},
    "colab_type": "code",
    "id": "M7RGiirzc11W"
   },
   "outputs": [],
   "source": [
    "from sklearn.svm import SVR\n",
    "from sklearn.svm import SVC"
   ]
  },
  {
   "cell_type": "code",
   "execution_count": 32,
   "metadata": {
    "colab": {},
    "colab_type": "code",
    "id": "OSdK5JZ3c11Z"
   },
   "outputs": [],
   "source": [
    "ksvr = SVR()"
   ]
  },
  {
   "cell_type": "code",
   "execution_count": 33,
   "metadata": {
    "colab": {},
    "colab_type": "code",
    "id": "TAi9Pmnpc11c"
   },
   "outputs": [],
   "source": [
    "param_grid = [ {'kernel': ['rbf'],\n",
    "               'C': [  .01,1,10,100,10000],\n",
    "               'gamma': [ 0.1, 5000]},\n",
    "              #{'kernel': ['linear'],\n",
    "              # 'C': [ 30000,20000]}\n",
    "             ]"
   ]
  },
  {
   "cell_type": "code",
   "execution_count": 34,
   "metadata": {
    "colab": {
     "base_uri": "https://localhost:8080/",
     "height": 50
    },
    "colab_type": "code",
    "id": "kmUijhI1c11i",
    "outputId": "1f09daa4-8fc4-44a6-e1aa-6a1771aa23be"
   },
   "outputs": [
    {
     "name": "stdout",
     "output_type": "stream",
     "text": [
      "Best parameters:  {'C': 10000, 'gamma': 0.1, 'kernel': 'rbf'}\n",
      "Best cross-validation score: 0.015820900911724167\n"
     ]
    }
   ],
   "source": [
    "grid_search_SVM_Rbf = GridSearchCV(SVR(), param_grid, cv=5, n_jobs = -1,\n",
    "                          return_train_score=True)\n",
    "# {'C': 20000, 'kernel': 'linear'}\n",
    "grid_search_SVM_Rbf.fit(X_train, y_train)\n",
    "print('Best parameters: ', grid_search_SVM_Rbf.best_params_)\n",
    "print('Best cross-validation score:', grid_search_SVM_Rbf.best_score_)"
   ]
  },
  {
   "cell_type": "code",
   "execution_count": 35,
   "metadata": {
    "colab": {
     "base_uri": "https://localhost:8080/",
     "height": 50
    },
    "colab_type": "code",
    "id": "62XlyUg4c11m",
    "outputId": "019e91e4-86fa-4e7f-988e-bc0577c6d252"
   },
   "outputs": [
    {
     "name": "stdout",
     "output_type": "stream",
     "text": [
      "Best parameters:  {'C': 20000, 'kernel': 'linear'}\n",
      "Best cross-validation score: 0.8867283288212725\n"
     ]
    }
   ],
   "source": [
    "param_grid = [{'kernel': ['linear'],\n",
    "               'C': [20000],\n",
    "              # 'gamma':  [100,130,140,150],\n",
    "               }\n",
    "             ]\n",
    "grid_search_SVMlinear = GridSearchCV(SVR(), param_grid, cv=5, n_jobs = -1,\n",
    "                          return_train_score=True)\n",
    "grid_search_SVMlinear.fit(X_train, y_train)\n",
    "print('Best parameters: ', grid_search_SVMlinear.best_params_)\n",
    "print('Best cross-validation score:', grid_search_SVMlinear.best_score_)"
   ]
  },
  {
   "cell_type": "code",
   "execution_count": null,
   "metadata": {
    "colab": {},
    "colab_type": "code",
    "id": "Y4Zbc8vCc11q"
   },
   "outputs": [],
   "source": []
  },
  {
   "cell_type": "markdown",
   "metadata": {
    "colab_type": "text",
    "id": "JlDSl0zrc11t"
   },
   "source": [
    "#trying to find better values for poly svm"
   ]
  },
  {
   "cell_type": "code",
   "execution_count": null,
   "metadata": {
    "colab": {},
    "colab_type": "code",
    "id": "6lZ8WAyfc11u"
   },
   "outputs": [],
   "source": []
  },
  {
   "cell_type": "code",
   "execution_count": 36,
   "metadata": {
    "colab": {
     "base_uri": "https://localhost:8080/",
     "height": 50
    },
    "colab_type": "code",
    "id": "MDWUZvtmc111",
    "outputId": "c921d504-d890-4494-c3ed-cc704c96b321"
   },
   "outputs": [
    {
     "name": "stdout",
     "output_type": "stream",
     "text": [
      "Best parameters:  {'C': 130, 'degree': 1, 'gamma': 140, 'kernel': 'poly'}\n",
      "Best cross-validation score: 0.8867277558552169\n"
     ]
    }
   ],
   "source": [
    "param_grid = [{'kernel': ['poly'],\n",
    "               'C': [120,130,140],\n",
    "               'gamma':  [130,140,150],\n",
    "               'degree' : [1,2]\n",
    "               }\n",
    "             ]\n",
    "grid_search_SVM_poly = GridSearchCV(SVR(), param_grid, cv=5, n_jobs = -1,\n",
    "                          return_train_score=True)\n",
    "grid_search_SVM_poly.fit(X_train, y_train)\n",
    "print('Best parameters: ', grid_search_SVM_poly.best_params_)\n",
    "print('Best cross-validation score:', grid_search_SVM_poly.best_score_)"
   ]
  },
  {
   "cell_type": "code",
   "execution_count": null,
   "metadata": {
    "colab": {},
    "colab_type": "code",
    "id": "kgFZ2jN2eq5M"
   },
   "outputs": [],
   "source": []
  },
  {
   "cell_type": "code",
   "execution_count": 37,
   "metadata": {
    "colab": {
     "base_uri": "https://localhost:8080/",
     "height": 50
    },
    "colab_type": "code",
    "id": "NVv3oGJOc114",
    "outputId": "658a2859-2083-47f7-f1a7-8e83e49852c2"
   },
   "outputs": [
    {
     "name": "stdout",
     "output_type": "stream",
     "text": [
      "Best parameters:  {'C': 300, 'gamma': 0.1, 'kernel': 'sigmoid'}\n",
      "Best cross-validation score: 0.49630524800142617\n"
     ]
    }
   ],
   "source": [
    "param_grid = [{'kernel': ['sigmoid'],\n",
    "               'C': [  100,300,500],\n",
    "               'gamma':  [ 0.1,0.2,0.3]             \n",
    "               }             \n",
    "             ]\n",
    "grid_search_SVM_sig = GridSearchCV(SVR(), param_grid, cv=5,n_jobs = -1,\n",
    "                          return_train_score=True)\n",
    "grid_search_SVM_sig.fit(X_train, y_train)\n",
    "\n",
    "\n",
    "#find best parameters\n",
    "print('Best parameters: ', grid_search_SVM_sig.best_params_)\n",
    "print('Best cross-validation score:', grid_search_SVM_sig.best_score_)"
   ]
  },
  {
   "cell_type": "code",
   "execution_count": 38,
   "metadata": {
    "colab": {
     "base_uri": "https://localhost:8080/",
     "height": 84
    },
    "colab_type": "code",
    "id": "Ld1rHXlXc118",
    "outputId": "ea6d92c0-899d-4d9e-ac61-c9630690d1eb"
   },
   "outputs": [
    {
     "name": "stdout",
     "output_type": "stream",
     "text": [
      "Best Mean Cross-validation score: 0.77\n",
      "\n",
      "Best parameters of Decision Tree regressor is :{'max_depth': 10, 'min_samples_split': 18}\n",
      "test score of Decision Tree Regressor is 0.7798307941381377\n"
     ]
    }
   ],
   "source": [
    "#Decision Tree\n",
    "from sklearn.tree import DecisionTreeRegressor\n",
    "dtree = DecisionTreeRegressor(random_state=0)\n",
    "dtree_param = {'max_depth': range(10,20) ,\n",
    "               'min_samples_split': range(15,20)}\n",
    "grid_dtree = GridSearchCV(dtree, dtree_param, cv=5, return_train_score = True)\n",
    "grid_dtree.fit(X_train, y_train)\n",
    "\n",
    "# Mean Cross Validation Score\n",
    "print(\"Best Mean Cross-validation score: {:.2f}\".format(grid_dtree.best_score_))\n",
    "print()\n",
    "print(\"Best parameters of Decision Tree regressor is :{}\".format(grid_dtree.best_params_))\n",
    "print(\"test score of Decision Tree Regressor is {}\".format(grid_dtree.score(X_test,y_test)))\n"
   ]
  },
  {
   "cell_type": "code",
   "execution_count": 39,
   "metadata": {
    "ExecuteTime": {
     "end_time": "2020-03-09T07:33:51.930133Z",
     "start_time": "2020-03-09T07:33:51.922105Z"
    },
    "colab": {},
    "colab_type": "code",
    "id": "lERGr5FXc12B"
   },
   "outputs": [],
   "source": [
    "# let's get the predictions\n",
    "X_train_preds = grid_search_SVM_poly.predict(X_train)\n",
    "X_test_preds = grid_search_SVM_poly.predict(X_test)"
   ]
  },
  {
   "cell_type": "code",
   "execution_count": 40,
   "metadata": {
    "ExecuteTime": {
     "end_time": "2020-03-09T07:33:54.122514Z",
     "start_time": "2020-03-09T07:33:54.118504Z"
    },
    "colab": {
     "base_uri": "https://localhost:8080/",
     "height": 33
    },
    "colab_type": "code",
    "id": "O196fJ-Cc12H",
    "outputId": "6e430ca9-825d-4cd0-960d-4579cca5cd21"
   },
   "outputs": [
    {
     "name": "stdout",
     "output_type": "stream",
     "text": [
      "Best Mean Cross-validation score: 0.8867\n"
     ]
    }
   ],
   "source": [
    "print(\"Best Mean Cross-validation score: {:.4f}\".format(grid_search_SVM_poly.best_score_))"
   ]
  },
  {
   "cell_type": "code",
   "execution_count": 41,
   "metadata": {
    "ExecuteTime": {
     "end_time": "2020-03-09T07:33:56.073138Z",
     "start_time": "2020-03-09T07:33:56.060105Z"
    },
    "colab": {
     "base_uri": "https://localhost:8080/",
     "height": 134
    },
    "colab_type": "code",
    "id": "s2BjSqqdc12L",
    "outputId": "d42d9758-c458-4751-ee56-addbb3710c23"
   },
   "outputs": [
    {
     "name": "stdout",
     "output_type": "stream",
     "text": [
      "train mse: 603217752.7475367\n",
      "train rmse: 24560.491704107568\n",
      "train r2: 0.9033898149931888\n",
      "\n",
      "test mse: 869520150.9286562\n",
      "test rmse: 29487.62708202639\n",
      "test r2: 0.8734712508944902\n"
     ]
    }
   ],
   "source": [
    "# check model performance:\n",
    "from sklearn.metrics import mean_squared_error\n",
    "from sklearn.metrics import r2_score\n",
    "\n",
    "print('train mse: {}'.format(mean_squared_error(y_train, X_train_preds)))\n",
    "print('train rmse: {}'.format(sqrt(mean_squared_error(y_train, X_train_preds))))\n",
    "print('train r2: {}'.format(r2_score(y_train, X_train_preds)))\n",
    "print()\n",
    "print('test mse: {}'.format(mean_squared_error(y_test, X_test_preds)))\n",
    "print('test rmse: {}'.format(sqrt(mean_squared_error(y_test, X_test_preds))))\n",
    "print('test r2: {}'.format(r2_score(y_test, X_test_preds)))"
   ]
  },
  {
   "cell_type": "markdown",
   "metadata": {
    "colab_type": "text",
    "id": "DIowvhL0c12T"
   },
   "source": [
    "# # Ensemble Models"
   ]
  },
  {
   "cell_type": "markdown",
   "metadata": {
    "colab_type": "text",
    "id": "7x8651Xtc12U"
   },
   "source": [
    "## Bagging"
   ]
  },
  {
   "cell_type": "markdown",
   "metadata": {
    "colab_type": "text",
    "id": "QZ_hi6obc12U"
   },
   "source": [
    "###  Bagging Tree "
   ]
  },
  {
   "cell_type": "code",
   "execution_count": 42,
   "metadata": {
    "colab": {},
    "colab_type": "code",
    "id": "cwZxu2pdc12W"
   },
   "outputs": [],
   "source": [
    "from sklearn.ensemble import BaggingClassifier\n",
    "from sklearn.tree import DecisionTreeClassifier\n",
    "from sklearn.ensemble import BaggingRegressor\n",
    "from sklearn.tree import DecisionTreeRegressor"
   ]
  },
  {
   "cell_type": "code",
   "execution_count": null,
   "metadata": {
    "colab": {},
    "colab_type": "code",
    "id": "WvzDpkW8c12Y"
   },
   "outputs": [],
   "source": []
  },
  {
   "cell_type": "code",
   "execution_count": null,
   "metadata": {
    "colab": {},
    "colab_type": "code",
    "id": "JDTT8fakc12a"
   },
   "outputs": [],
   "source": []
  },
  {
   "cell_type": "markdown",
   "metadata": {
    "colab_type": "text",
    "id": "c7IBtL36c12d"
   },
   "source": [
    "only integers, slices (`:`), ellipsis (`...`), numpy.newaxis (`None`) and integer or boolean arrays are valid indices"
   ]
  },
  {
   "cell_type": "markdown",
   "metadata": {
    "colab_type": "text",
    "id": "k6qa8A29c12e"
   },
   "source": [
    "print(f'Best Mean Cross Validation Score is {bag_dtree1_grid.best_score_}')\n",
    "print(f'Best Mean Cross Validation Score is {bag_dtree1_grid.best_params_}')\n",
    "print(f'Train score is {bag_dtree1_grid.score(X_train,y_train)}')\n",
    "print(f'Test score is {bag_dtree1_grid.score(X_test,y_test)}')"
   ]
  },
  {
   "cell_type": "code",
   "execution_count": 43,
   "metadata": {
    "colab": {
     "base_uri": "https://localhost:8080/",
     "height": 419
    },
    "colab_type": "code",
    "id": "oaYsNX54c12f",
    "outputId": "3b24d58b-7726-44cb-8200-7144f13f6670"
   },
   "outputs": [
    {
     "data": {
      "text/plain": [
       "GridSearchCV(cv=5, error_score=nan,\n",
       "             estimator=BaggingRegressor(base_estimator=DecisionTreeRegressor(ccp_alpha=0.0,\n",
       "                                                                             criterion='mse',\n",
       "                                                                             max_depth=None,\n",
       "                                                                             max_features=None,\n",
       "                                                                             max_leaf_nodes=None,\n",
       "                                                                             min_impurity_decrease=0.0,\n",
       "                                                                             min_impurity_split=None,\n",
       "                                                                             min_samples_leaf=1,\n",
       "                                                                             min_samples_split=2,\n",
       "                                                                             min_weight_fraction_leaf=0.0,\n",
       "                                                                             presort='deprecated',\n",
       "                                                                             random_state=0,\n",
       "                                                                             splitter='best'...\n",
       "                                        max_features=1.0, max_samples=1.0,\n",
       "                                        n_estimators=10, n_jobs=None,\n",
       "                                        oob_score=True, random_state=0,\n",
       "                                        verbose=0, warm_start=False),\n",
       "             iid='deprecated', n_jobs=-1,\n",
       "             param_grid={'base_estimator__max_depth': range(1, 10),\n",
       "                         'max_samples': [0.01, 0.1, 0.2, 0.8, 0.9],\n",
       "                         'n_estimators': [25, 100, 200, 300]},\n",
       "             pre_dispatch='2*n_jobs', refit=True, return_train_score=True,\n",
       "             scoring=None, verbose=0)"
      ]
     },
     "execution_count": 43,
     "metadata": {},
     "output_type": "execute_result"
    }
   ],
   "source": [
    "bag_dtree1 = BaggingRegressor(base_estimator=DecisionTreeRegressor(random_state=0), bootstrap=True, random_state=0, oob_score=True)\n",
    "\n",
    "bag_dtree1_param = {\n",
    "                 'base_estimator__max_depth': range(1,10),\n",
    "                 'max_samples':  [.01,.1,0.2,0.8,.9],\n",
    "                 'n_estimators': [25,100,200,300]}\n",
    "bag_dtree1_grid = GridSearchCV(bag_dtree1, bag_dtree1_param,cv=5, return_train_score=True,n_jobs = -1 )\n",
    "bag_dtree1_grid.fit(X_train,y_train)"
   ]
  },
  {
   "cell_type": "code",
   "execution_count": 44,
   "metadata": {
    "colab": {
     "base_uri": "https://localhost:8080/",
     "height": 104
    },
    "colab_type": "code",
    "id": "ABZAPLGpc12n",
    "outputId": "00182e6a-2551-4988-9922-f64ba6e98139"
   },
   "outputs": [
    {
     "name": "stdout",
     "output_type": "stream",
     "text": [
      "Best Mean Cross Validation Score is 0.8735509123506588\n",
      "Best Mean Cross Validation Score is {'base_estimator__max_depth': 9, 'max_samples': 0.8, 'n_estimators': 200}\n",
      "Train score is 0.9645200364875487\n",
      "Test score is 0.8682427537114035\n"
     ]
    }
   ],
   "source": [
    "print(f'Best Mean Cross Validation Score is {bag_dtree1_grid.best_score_}')\n",
    "print(f'Best Mean Cross Validation Score is {bag_dtree1_grid.best_params_}')\n",
    "print(f'Train score is {bag_dtree1_grid.score(X_train,y_train)}')\n",
    "print(f'Test score is {bag_dtree1_grid.score(X_test,y_test)}')"
   ]
  },
  {
   "cell_type": "markdown",
   "metadata": {
    "colab_type": "text",
    "id": "qxKdJ3Onc12s"
   },
   "source": [
    "Best Mean Cross Validation Score is 0.8722938684887891\n",
    "Best Mean Cross Validation Score is {'base_estimator__max_depth': 9, 'max_samples': 0.8, 'n_estimators': 100}\n",
    "Train score is 0.963722616694338\n",
    "Test score is 0.8603296190869036\n"
   ]
  },
  {
   "cell_type": "markdown",
   "metadata": {
    "colab_type": "text",
    "id": "jLYjBiNLc12t"
   },
   "source": [
    "### Bagging Best Model"
   ]
  },
  {
   "cell_type": "code",
   "execution_count": null,
   "metadata": {
    "colab": {},
    "colab_type": "code",
    "id": "x_Nefywvc12w"
   },
   "outputs": [],
   "source": []
  },
  {
   "cell_type": "code",
   "execution_count": null,
   "metadata": {
    "colab": {},
    "colab_type": "code",
    "id": "4HIZbh9Hc121"
   },
   "outputs": [],
   "source": []
  },
  {
   "cell_type": "markdown",
   "metadata": {
    "colab_type": "text",
    "id": "XXHNFtztc127"
   },
   "source": [
    "bag_svrP = BaggingClassifier(base_estimator=SVR(C = 150, degree = 1, gamma= 120, kernel= 'poly'), bootstrap=True, random_state=0, oob_score=True)"
   ]
  },
  {
   "cell_type": "markdown",
   "metadata": {
    "colab_type": "text",
    "id": "QKvHzOSgc128"
   },
   "source": [
    "lr = bag_svrP.fit(X_train, y_train)"
   ]
  },
  {
   "cell_type": "markdown",
   "metadata": {
    "colab_type": "text",
    "id": "kBz40ng0c12-"
   },
   "source": [
    "#lr = bag_svrP.fit(X_train, y_train)\n",
    "cv_scores = cross_val_score(bag_svrP, X_train, y_train,cv = 5 , n_jobs = -1)"
   ]
  },
  {
   "cell_type": "markdown",
   "metadata": {
    "colab_type": "text",
    "id": "o8-1v179c12_"
   },
   "source": [
    "bag_svrP1 = BaggingClassifier(base_estimator=SVR(C = 150, degree = 1, gamma= 120, kernel= 'poly'), bootstrap=True, random_state=0)"
   ]
  },
  {
   "cell_type": "code",
   "execution_count": 45,
   "metadata": {
    "colab": {},
    "colab_type": "code",
    "id": "cu1bzB3Pc13A"
   },
   "outputs": [],
   "source": [
    "#lr = bag_svrP1.fit(X_train, y_train, n_jobs = -1)"
   ]
  },
  {
   "cell_type": "code",
   "execution_count": 46,
   "metadata": {
    "colab": {},
    "colab_type": "code",
    "id": "yW1lg_yuc13G"
   },
   "outputs": [],
   "source": [
    "#lr = bag_svrP.fit(X_train, y_train)\n",
    "#cv_scores = cross_val_score(bag_svrP1, X_train, y_train,cv = 5 , n_jobs = -1)"
   ]
  },
  {
   "cell_type": "code",
   "execution_count": 47,
   "metadata": {
    "colab": {},
    "colab_type": "code",
    "id": "GaSEhWEzc13K"
   },
   "outputs": [],
   "source": [
    "#print(cv_scores)"
   ]
  },
  {
   "cell_type": "code",
   "execution_count": null,
   "metadata": {
    "colab": {},
    "colab_type": "code",
    "id": "WuINqMz7c13Q"
   },
   "outputs": [],
   "source": []
  },
  {
   "cell_type": "code",
   "execution_count": 48,
   "metadata": {
    "colab": {},
    "colab_type": "code",
    "id": "bnJvhBU5c13U"
   },
   "outputs": [
    {
     "data": {
      "text/plain": [
       "GridSearchCV(cv=5, error_score=nan,\n",
       "             estimator=BaggingRegressor(base_estimator=SVR(C=1.0,\n",
       "                                                           cache_size=200,\n",
       "                                                           coef0=0.0, degree=3,\n",
       "                                                           epsilon=0.1,\n",
       "                                                           gamma='scale',\n",
       "                                                           kernel='poly',\n",
       "                                                           max_iter=-1,\n",
       "                                                           shrinking=True,\n",
       "                                                           tol=0.001,\n",
       "                                                           verbose=False),\n",
       "                                        bootstrap=True,\n",
       "                                        bootstrap_features=False,\n",
       "                                        max_features=1.0, max_samples=1.0,\n",
       "                                        n_estimators=10, n_jobs=-1,\n",
       "                                        oob_score=False, random_state=0,\n",
       "                                        verbose=0, warm_start=False),\n",
       "             iid='deprecated', n_jobs=-1,\n",
       "             param_grid={'base_estimator__C': [100, 300, 500],\n",
       "                         'base_estimator__degree': [1, 2],\n",
       "                         'base_estimator__gamma': [100, 500, 1000]},\n",
       "             pre_dispatch='2*n_jobs', refit=True, return_train_score=True,\n",
       "             scoring=None, verbose=0)"
      ]
     },
     "execution_count": 48,
     "metadata": {},
     "output_type": "execute_result"
    }
   ],
   "source": [
    "bag_svrP = BaggingRegressor(base_estimator=SVR(kernel ='poly'), bootstrap=True, random_state=0,n_jobs = -1)\n",
    "param_grid = {\n",
    "              'base_estimator__C' : [100,300,500],\n",
    "              'base_estimator__degree' :   [1,2],\n",
    "               'base_estimator__gamma' : [100,500,1000]       \n",
    "                }\n",
    "bag_svrP_grid1 = GridSearchCV(bag_svrP, param_grid,cv=5, return_train_score=True,n_jobs = -1)\n",
    "bag_svrP_grid1.fit(X_train,y_train)\n"
   ]
  },
  {
   "cell_type": "code",
   "execution_count": 49,
   "metadata": {
    "colab": {},
    "colab_type": "code",
    "id": "R8DTR3bWc13Z"
   },
   "outputs": [
    {
     "name": "stdout",
     "output_type": "stream",
     "text": [
      "Best Mean Cross Validation Score is 0.886091668145751\n",
      "Best Mean Cross Validation Score is {'base_estimator__C': 100, 'base_estimator__degree': 1, 'base_estimator__gamma': 100}\n",
      "Train score is 0.9020135535130496\n",
      "Test score is 0.8784058207734156\n"
     ]
    }
   ],
   "source": [
    "print(f'Best Mean Cross Validation Score is {bag_svrP_grid1.best_score_}')\n",
    "print(f'Best Mean Cross Validation Score is {bag_svrP_grid1.best_params_}')\n",
    "print(f'Train score is {bag_svrP_grid1.score(X_train,y_train)}')\n",
    "print(f'Test score is {bag_svrP_grid1.score(X_test,y_test)}')"
   ]
  },
  {
   "cell_type": "markdown",
   "metadata": {
    "colab_type": "text",
    "id": "cw7qfiLmc13c"
   },
   "source": [
    "Best Mean Cross Validation Score is 0.8860902782132741\n",
    "Best Mean Cross Validation Score is {'base_estimator__C': 100, 'base_estimator__degree': 1, 'base_estimator__gamma': 100}\n",
    "Train score is 0.9020135535130496\n",
    "Test score is 0.8784058207734156"
   ]
  },
  {
   "cell_type": "markdown",
   "metadata": {
    "colab_type": "text",
    "id": "C2xayHsic13c"
   },
   "source": [
    "Best Mean Cross Validation Score is -0.013303324359417577\n",
    "Best Mean Cross Validation Score is {'base_estimator__C': 10, 'base_estimator__degree': 1}\n",
    "Train score is -0.005869270051933828\n",
    "Test score is -0.0006717955856070379"
   ]
  },
  {
   "cell_type": "code",
   "execution_count": null,
   "metadata": {
    "colab": {},
    "colab_type": "code",
    "id": "dCySawsZc13d"
   },
   "outputs": [],
   "source": []
  },
  {
   "cell_type": "code",
   "execution_count": null,
   "metadata": {
    "colab": {},
    "colab_type": "code",
    "id": "kjazVxSyc13f"
   },
   "outputs": [],
   "source": []
  },
  {
   "cell_type": "markdown",
   "metadata": {
    "colab_type": "text",
    "id": "l6rnebcbc13h"
   },
   "source": [
    "## Pasting"
   ]
  },
  {
   "cell_type": "markdown",
   "metadata": {
    "colab_type": "text",
    "id": "qkwNHeArc13h"
   },
   "source": [
    "### Pasting Tree"
   ]
  },
  {
   "cell_type": "code",
   "execution_count": 50,
   "metadata": {
    "colab": {},
    "colab_type": "code",
    "id": "V_I9BOFPc13h"
   },
   "outputs": [
    {
     "data": {
      "text/plain": [
       "GridSearchCV(cv=5, error_score=nan,\n",
       "             estimator=BaggingRegressor(base_estimator=DecisionTreeRegressor(ccp_alpha=0.0,\n",
       "                                                                             criterion='mse',\n",
       "                                                                             max_depth=None,\n",
       "                                                                             max_features=None,\n",
       "                                                                             max_leaf_nodes=None,\n",
       "                                                                             min_impurity_decrease=0.0,\n",
       "                                                                             min_impurity_split=None,\n",
       "                                                                             min_samples_leaf=1,\n",
       "                                                                             min_samples_split=2,\n",
       "                                                                             min_weight_fraction_leaf=0.0,\n",
       "                                                                             presort='deprecated',\n",
       "                                                                             random_state=None,\n",
       "                                                                             splitter='be...\n",
       "                                        bootstrap_features=False,\n",
       "                                        max_features=1.0, max_samples=1.0,\n",
       "                                        n_estimators=10, n_jobs=None,\n",
       "                                        oob_score=False, random_state=0,\n",
       "                                        verbose=0, warm_start=False),\n",
       "             iid='deprecated', n_jobs=-1,\n",
       "             param_grid={'base_estimator__max_depth': range(1, 10),\n",
       "                         'max_samples': [0.1, 0.01, 0.5, 0.8],\n",
       "                         'n_estimators': [300, 500, 1000]},\n",
       "             pre_dispatch='2*n_jobs', refit=True, return_train_score=True,\n",
       "             scoring=None, verbose=0)"
      ]
     },
     "execution_count": 50,
     "metadata": {},
     "output_type": "execute_result"
    }
   ],
   "source": [
    "paste_dtree1 = BaggingRegressor(base_estimator=DecisionTreeRegressor(), bootstrap=False, random_state=0, oob_score=False)\n",
    "\n",
    "paste_dtree1_param = {\n",
    "                 'base_estimator__max_depth': range(1,10),\n",
    "                 'max_samples':  [.1,.01,.5,0.8],\n",
    "                 'n_estimators': [300,500,1000]}\n",
    "paste_dtree1_grid = GridSearchCV(paste_dtree1, paste_dtree1_param,cv=5, return_train_score=True,n_jobs = -1)\n",
    "paste_dtree1_grid.fit(X_train,y_train)"
   ]
  },
  {
   "cell_type": "code",
   "execution_count": 51,
   "metadata": {
    "colab": {},
    "colab_type": "code",
    "id": "5BsGn9hwc13m"
   },
   "outputs": [
    {
     "name": "stdout",
     "output_type": "stream",
     "text": [
      "Best Mean Cross Validation Score is 0.8689860079266183\n",
      "Best Mean Cross Validation Score is {'base_estimator__max_depth': 9, 'max_samples': 0.5, 'n_estimators': 1000}\n",
      "Train score is 0.9598424363441499\n",
      "Test score is 0.8716042238173776\n"
     ]
    }
   ],
   "source": [
    "print(f'Best Mean Cross Validation Score is {paste_dtree1_grid.best_score_}')\n",
    "print(f'Best Mean Cross Validation Score is {paste_dtree1_grid.best_params_}')\n",
    "print(f'Train score is {paste_dtree1_grid.score(X_train,y_train)}')\n",
    "print(f'Test score is {paste_dtree1_grid.score(X_test,y_test)}')"
   ]
  },
  {
   "cell_type": "markdown",
   "metadata": {
    "colab_type": "text",
    "id": "sUVLAIsUc13q"
   },
   "source": [
    "Best Mean Cross Validation Score is 0.85579891525468\n",
    "Best Mean Cross Validation Score is {'base_estimator__max_depth': 9, 'max_samples': 0.8, 'n_estimators': 100}\n",
    "Train score is 0.977548776732943\n",
    "Test score is 0.8644842558983825"
   ]
  },
  {
   "cell_type": "markdown",
   "metadata": {
    "colab_type": "text",
    "id": "IWorWzrhc13q"
   },
   "source": [
    "### Pasting Best model"
   ]
  },
  {
   "cell_type": "code",
   "execution_count": 52,
   "metadata": {
    "colab": {},
    "colab_type": "code",
    "id": "pDGL_pMlc13r"
   },
   "outputs": [
    {
     "data": {
      "text/plain": [
       "GridSearchCV(cv=5, error_score=nan,\n",
       "             estimator=BaggingRegressor(base_estimator=SVR(C=1.0,\n",
       "                                                           cache_size=200,\n",
       "                                                           coef0=0.0, degree=3,\n",
       "                                                           epsilon=0.1,\n",
       "                                                           gamma='scale',\n",
       "                                                           kernel='poly',\n",
       "                                                           max_iter=-1,\n",
       "                                                           shrinking=True,\n",
       "                                                           tol=0.001,\n",
       "                                                           verbose=False),\n",
       "                                        bootstrap=False,\n",
       "                                        bootstrap_features=False,\n",
       "                                        max_features=1.0, max_samples=1.0,\n",
       "                                        n_estimators=10, n_jobs=None,\n",
       "                                        oob_score=False, random_state=0,\n",
       "                                        verbose=0, warm_start=False),\n",
       "             iid='deprecated', n_jobs=None,\n",
       "             param_grid=[{'base_estimator__C': [10, 50, 100],\n",
       "                          'base_estimator__degree': [1, 2],\n",
       "                          'base_estimator__gamma': [100, 500]}],\n",
       "             pre_dispatch='2*n_jobs', refit=True, return_train_score=True,\n",
       "             scoring=None, verbose=0)"
      ]
     },
     "execution_count": 52,
     "metadata": {},
     "output_type": "execute_result"
    }
   ],
   "source": [
    "paste_svrP = BaggingRegressor(base_estimator=SVR(kernel = 'poly'), bootstrap=False, random_state=0)\n",
    "\n",
    "param_grid = [{'base_estimator__C' : [ 10,50,100],\n",
    "              'base_estimator__degree' :   [1,2],\n",
    "               'base_estimator__gamma' :  [ 100,500]\n",
    "              }  \n",
    "             ]\n",
    "paste_svrP_grid = GridSearchCV(paste_svrP, param_grid,cv=5, return_train_score=True, )\n",
    "paste_svrP_grid.fit(X_train,y_train)"
   ]
  },
  {
   "cell_type": "code",
   "execution_count": 53,
   "metadata": {
    "colab": {},
    "colab_type": "code",
    "id": "vH1Mngjhc13t"
   },
   "outputs": [
    {
     "name": "stdout",
     "output_type": "stream",
     "text": [
      "Best Mean Cross Validation Score is 0.8867182407843186\n",
      "Best Mean Cross Validation Score is {'base_estimator__C': 100, 'base_estimator__degree': 1, 'base_estimator__gamma': 100}\n",
      "Train score is 0.9032153284566822\n",
      "Test score is 0.8730788431320994\n"
     ]
    }
   ],
   "source": [
    "print(f'Best Mean Cross Validation Score is {paste_svrP_grid.best_score_}')\n",
    "print(f'Best Mean Cross Validation Score is {paste_svrP_grid.best_params_}')\n",
    "print(f'Train score is {paste_svrP_grid.score(X_train,y_train)}')\n",
    "print(f'Test score is {paste_svrP_grid.score(X_test,y_test)}')"
   ]
  },
  {
   "cell_type": "markdown",
   "metadata": {
    "colab_type": "text",
    "id": "XUw0lDlAc13v"
   },
   "source": [
    "pasting\n",
    "Best Mean Cross Validation Score is 0.886239817975301\n",
    "Best Mean Cross Validation Score is {'base_estimator__C': 10, 'base_estimator__degree': 1, 'base_estimator__gamma': 100}\n",
    "Train score is 0.9016336525800952\n",
    "Test score is 0.8702806425506886"
   ]
  },
  {
   "cell_type": "markdown",
   "metadata": {
    "colab_type": "text",
    "id": "zhM1mtd6c13v"
   },
   "source": [
    "## Random Forest"
   ]
  },
  {
   "cell_type": "code",
   "execution_count": 54,
   "metadata": {
    "colab": {},
    "colab_type": "code",
    "id": "aW1JiB4Ic13w"
   },
   "outputs": [],
   "source": [
    "from sklearn.ensemble import RandomForestClassifier\n",
    "from sklearn.ensemble import RandomForestRegressor"
   ]
  },
  {
   "cell_type": "code",
   "execution_count": 55,
   "metadata": {
    "colab": {},
    "colab_type": "code",
    "id": "uluzqqqmc132"
   },
   "outputs": [
    {
     "data": {
      "text/plain": [
       "GridSearchCV(cv=5, error_score=nan,\n",
       "             estimator=RandomForestRegressor(bootstrap=True, ccp_alpha=0.0,\n",
       "                                             criterion='mse', max_depth=None,\n",
       "                                             max_features='auto',\n",
       "                                             max_leaf_nodes=None,\n",
       "                                             max_samples=None,\n",
       "                                             min_impurity_decrease=0.0,\n",
       "                                             min_impurity_split=None,\n",
       "                                             min_samples_leaf=1,\n",
       "                                             min_samples_split=2,\n",
       "                                             min_weight_fraction_leaf=0.0,\n",
       "                                             n_estimators=100, n_jobs=None,\n",
       "                                             oob_score=False, random_state=42,\n",
       "                                             verbose=0, warm_start=False),\n",
       "             iid='deprecated', n_jobs=None,\n",
       "             param_grid={'max_depth': [2, 4, 5, 6, 7, 8],\n",
       "                         'max_features': ['auto', 'sqrt', 'log2'],\n",
       "                         'n_estimators': [200, 500]},\n",
       "             pre_dispatch='2*n_jobs', refit=True, return_train_score=True,\n",
       "             scoring=None, verbose=0)"
      ]
     },
     "execution_count": 55,
     "metadata": {},
     "output_type": "execute_result"
    }
   ],
   "source": [
    "rfc =RandomForestRegressor(random_state=42)\n",
    "rfc_param = { \n",
    "    'n_estimators': [200, 500],\n",
    "    'max_features': ['auto', 'sqrt', 'log2'],\n",
    "    'max_depth' : [2,4,5,6,7,8],\n",
    "}\n",
    "\n",
    "rfc_grid = GridSearchCV(rfc, rfc_param,cv=5, return_train_score=True, )\n",
    "rfc_grid.fit(X_train,y_train)"
   ]
  },
  {
   "cell_type": "code",
   "execution_count": null,
   "metadata": {
    "colab": {},
    "colab_type": "code",
    "id": "hmU4EgZ_c134"
   },
   "outputs": [],
   "source": []
  },
  {
   "cell_type": "code",
   "execution_count": 56,
   "metadata": {
    "colab": {},
    "colab_type": "code",
    "id": "Ke7axzKSc13-"
   },
   "outputs": [
    {
     "name": "stdout",
     "output_type": "stream",
     "text": [
      "Best Mean Cross Validation Score is 0.8684018451123624\n",
      "Best Mean Cross Validation Score is {'max_depth': 8, 'max_features': 'sqrt', 'n_estimators': 200}\n",
      "Train score is 0.9518111754018606\n",
      "Test score is 0.8620153277926287\n"
     ]
    }
   ],
   "source": [
    "print(f'Best Mean Cross Validation Score is {rfc_grid.best_score_}')\n",
    "print(f'Best Mean Cross Validation Score is {rfc_grid.best_params_}')\n",
    "print(f'Train score is {rfc_grid.score(X_train,y_train)}')\n",
    "print(f'Test score is {rfc_grid.score(X_test,y_test)}')"
   ]
  },
  {
   "cell_type": "markdown",
   "metadata": {
    "colab_type": "text",
    "id": "qYxmXjcHc14B"
   },
   "source": [
    "## Ada Boost (with decision tree)"
   ]
  },
  {
   "cell_type": "code",
   "execution_count": 57,
   "metadata": {
    "colab": {},
    "colab_type": "code",
    "id": "ljNmDv51c14B"
   },
   "outputs": [],
   "source": [
    "from sklearn.ensemble import AdaBoostClassifier\n",
    "from sklearn.ensemble import AdaBoostRegressor"
   ]
  },
  {
   "cell_type": "code",
   "execution_count": 58,
   "metadata": {
    "colab": {},
    "colab_type": "code",
    "id": "OG3XMJ3Sc14G"
   },
   "outputs": [
    {
     "data": {
      "text/plain": [
       "GridSearchCV(cv=5, error_score=nan,\n",
       "             estimator=AdaBoostRegressor(base_estimator=DecisionTreeRegressor(ccp_alpha=0.0,\n",
       "                                                                              criterion='mse',\n",
       "                                                                              max_depth=None,\n",
       "                                                                              max_features=None,\n",
       "                                                                              max_leaf_nodes=None,\n",
       "                                                                              min_impurity_decrease=0.0,\n",
       "                                                                              min_impurity_split=None,\n",
       "                                                                              min_samples_leaf=1,\n",
       "                                                                              min_samples_split=2,\n",
       "                                                                              min_weight_fraction_leaf=0.0,\n",
       "                                                                              presort='deprecated',\n",
       "                                                                              random_state=None,\n",
       "                                                                              splitter='best'),\n",
       "                                         learning_rate=1.0, loss='linear',\n",
       "                                         n_estimators=50, random_state=42),\n",
       "             iid='deprecated', n_jobs=None,\n",
       "             param_grid={'base_estimator__max_depth': [4, 6, 8],\n",
       "                         'learning_rate': [1.0, 2, 3],\n",
       "                         'n_estimators': [100, 150]},\n",
       "             pre_dispatch='2*n_jobs', refit=True, return_train_score=True,\n",
       "             scoring=None, verbose=0)"
      ]
     },
     "execution_count": 58,
     "metadata": {},
     "output_type": "execute_result"
    }
   ],
   "source": [
    "adc_dtree =AdaBoostRegressor(base_estimator=DecisionTreeRegressor(),random_state=42)\n",
    "adc_dtree_param = {\n",
    "#              'base_estimator__criterion' : [\"gini\", \"entropy\"],\n",
    "#              'base_estimator__splitter' :   [\"best\", \"random\"],\n",
    "              'base_estimator__max_depth' : [4,6,8],\n",
    "              'n_estimators' : [100,150],\n",
    "              'learning_rate' : [1.0,2,3],\n",
    "             }\n",
    "adc_dtree_grid = GridSearchCV(adc_dtree, adc_dtree_param,cv=5, return_train_score=True, )\n",
    "adc_dtree_grid.fit(X_train,y_train)"
   ]
  },
  {
   "cell_type": "code",
   "execution_count": 59,
   "metadata": {
    "colab": {},
    "colab_type": "code",
    "id": "h9iTzWTWc14K"
   },
   "outputs": [
    {
     "name": "stdout",
     "output_type": "stream",
     "text": [
      "Best Mean Cross Validation Score is 0.8731237811314138\n",
      "Best Mean Cross Validation Score is {'base_estimator__max_depth': 6, 'learning_rate': 2, 'n_estimators': 100}\n",
      "Train score is 0.9623020124499386\n",
      "Test score is 0.8698379324389934\n"
     ]
    }
   ],
   "source": [
    "print(f'Best Mean Cross Validation Score is {adc_dtree_grid.best_score_}')\n",
    "print(f'Best Mean Cross Validation Score is {adc_dtree_grid.best_params_}')\n",
    "print(f'Train score is {adc_dtree_grid.score(X_train,y_train)}')\n",
    "print(f'Test score is {adc_dtree_grid.score(X_test,y_test)}')"
   ]
  },
  {
   "cell_type": "markdown",
   "metadata": {
    "colab_type": "text",
    "id": "G9Bojyp5c14N"
   },
   "source": [
    "Best Mean Cross Validation Score is 0.8731328245140333\n",
    "Best Mean Cross Validation Score is {'base_estimator__max_depth': 6, 'learning_rate': 2, 'n_estimators': 100}\n",
    "Train score is 0.9623020124499386\n",
    "Test score is 0.8698379324389934"
   ]
  },
  {
   "cell_type": "markdown",
   "metadata": {
    "colab_type": "text",
    "id": "YfXCWPNvc14O"
   },
   "source": [
    "## \tGradient Boost"
   ]
  },
  {
   "cell_type": "code",
   "execution_count": 60,
   "metadata": {
    "colab": {},
    "colab_type": "code",
    "id": "47gMWEVuc14O"
   },
   "outputs": [
    {
     "data": {
      "text/plain": [
       "GridSearchCV(cv=5, error_score=nan,\n",
       "             estimator=GradientBoostingRegressor(alpha=0.9, ccp_alpha=0.0,\n",
       "                                                 criterion='friedman_mse',\n",
       "                                                 init=None, learning_rate=0.1,\n",
       "                                                 loss='ls', max_depth=3,\n",
       "                                                 max_features=None,\n",
       "                                                 max_leaf_nodes=None,\n",
       "                                                 min_impurity_decrease=0.0,\n",
       "                                                 min_impurity_split=None,\n",
       "                                                 min_samples_leaf=1,\n",
       "                                                 min_samples_split=2,\n",
       "                                                 min_weight_fraction_leaf=0.0,\n",
       "                                                 n_estimators=100,\n",
       "                                                 n_iter_no_change=None,\n",
       "                                                 presort='deprecated',\n",
       "                                                 random_state=42, subsample=1.0,\n",
       "                                                 tol=0.0001,\n",
       "                                                 validation_fraction=0.1,\n",
       "                                                 verbose=0, warm_start=False),\n",
       "             iid='deprecated', n_jobs=-1,\n",
       "             param_grid={'learning_rate': [0.01, 0.1], 'max_depth': [2, 3, 4],\n",
       "                         'n_estimators': [400, 500, 600]},\n",
       "             pre_dispatch='2*n_jobs', refit=True, return_train_score=True,\n",
       "             scoring=None, verbose=0)"
      ]
     },
     "execution_count": 60,
     "metadata": {},
     "output_type": "execute_result"
    }
   ],
   "source": [
    "from  sklearn.ensemble import GradientBoostingRegressor\n",
    "gbc= GradientBoostingRegressor(random_state=42)\n",
    "#{'learning_rate': 0.1, 'max_depth': 3, 'n_estimators': 600}\n",
    "gbc_param = {\n",
    "              'max_depth' : [2,3,4],\n",
    "              'n_estimators' : [400,500,600],\n",
    "              'learning_rate' : [.01,0.1],\n",
    "             }\n",
    "gbc_grid = GridSearchCV(gbc, gbc_param,cv=5, return_train_score=True,n_jobs = -1 )\n",
    "gbc_grid.fit(X_train,y_train)"
   ]
  },
  {
   "cell_type": "markdown",
   "metadata": {
    "colab_type": "text",
    "id": "7gUltUTlc14R"
   },
   "source": [
    "ValueError: Input contains NaN, infinity or a value too large for dtype('float64')."
   ]
  },
  {
   "cell_type": "code",
   "execution_count": 61,
   "metadata": {
    "colab": {},
    "colab_type": "code",
    "id": "QZnIcQFDc14S"
   },
   "outputs": [
    {
     "name": "stdout",
     "output_type": "stream",
     "text": [
      "Best Mean Cross Validation Score is 0.8980661915129733\n",
      "Best Mean Cross Validation Score is {'learning_rate': 0.1, 'max_depth': 3, 'n_estimators': 600}\n",
      "Train score is 0.9883608839701025\n",
      "Test score is 0.8912110485390645\n"
     ]
    }
   ],
   "source": [
    "print(f'Best Mean Cross Validation Score is {gbc_grid.best_score_}')\n",
    "print(f'Best Mean Cross Validation Score is {gbc_grid.best_params_}')\n",
    "print(f'Train score is {gbc_grid.score(X_train,y_train)}')\n",
    "print(f'Test score is {gbc_grid.score(X_test,y_test)}')"
   ]
  },
  {
   "cell_type": "code",
   "execution_count": null,
   "metadata": {
    "colab": {},
    "colab_type": "code",
    "id": "w47wVjT3c14X"
   },
   "outputs": [],
   "source": []
  },
  {
   "cell_type": "markdown",
   "metadata": {
    "colab_type": "text",
    "id": "VhqUE3_lc14a"
   },
   "source": [
    "## Extra-Trees "
   ]
  },
  {
   "cell_type": "code",
   "execution_count": null,
   "metadata": {
    "colab": {},
    "colab_type": "code",
    "id": "I2HbSsAfc14a"
   },
   "outputs": [],
   "source": []
  },
  {
   "cell_type": "code",
   "execution_count": null,
   "metadata": {
    "colab": {},
    "colab_type": "code",
    "id": "uzIOgWujc14f"
   },
   "outputs": [],
   "source": []
  },
  {
   "cell_type": "code",
   "execution_count": 62,
   "metadata": {
    "colab": {},
    "colab_type": "code",
    "id": "0ysEWnURc14i"
   },
   "outputs": [],
   "source": [
    "from  sklearn.ensemble import ExtraTreesClassifier\n",
    "from  sklearn.ensemble import ExtraTreesRegressor\n"
   ]
  },
  {
   "cell_type": "code",
   "execution_count": 63,
   "metadata": {
    "colab": {},
    "colab_type": "code",
    "id": "fUjJeOPVc14k"
   },
   "outputs": [
    {
     "data": {
      "text/plain": [
       "GridSearchCV(cv=5, error_score=nan,\n",
       "             estimator=ExtraTreesRegressor(bootstrap=False, ccp_alpha=0.0,\n",
       "                                           criterion='mse', max_depth=None,\n",
       "                                           max_features='auto',\n",
       "                                           max_leaf_nodes=None,\n",
       "                                           max_samples=None,\n",
       "                                           min_impurity_decrease=0.0,\n",
       "                                           min_impurity_split=None,\n",
       "                                           min_samples_leaf=1,\n",
       "                                           min_samples_split=2,\n",
       "                                           min_weight_fraction_leaf=0.0,\n",
       "                                           n_estimators=100, n_jobs=-1,\n",
       "                                           oob_score=False, random_state=42,\n",
       "                                           verbose=0, warm_start=False),\n",
       "             iid='deprecated', n_jobs=-1,\n",
       "             param_grid={'max_depth': [8, 10, 50],\n",
       "                         'max_features': ['auto', 'sqrt', 'log2'],\n",
       "                         'n_estimators': [500, 800]},\n",
       "             pre_dispatch='2*n_jobs', refit=True, return_train_score=True,\n",
       "             scoring=None, verbose=0)"
      ]
     },
     "execution_count": 63,
     "metadata": {},
     "output_type": "execute_result"
    }
   ],
   "source": [
    "etc= ExtraTreesRegressor(random_state=42,n_jobs = -1 )\n",
    "etc_param = { \n",
    "    'n_estimators': [ 500,800],\n",
    "    'max_features': ['auto', 'sqrt', 'log2'],\n",
    "    'max_depth' : [8,10,50]\n",
    "    \n",
    "}\n",
    "etc_grid = GridSearchCV(etc, etc_param,cv=5, return_train_score=True,n_jobs = -1  )\n",
    "etc_grid.fit(X_train,y_train)"
   ]
  },
  {
   "cell_type": "code",
   "execution_count": 64,
   "metadata": {
    "colab": {},
    "colab_type": "code",
    "id": "qHSXcCTBc14p"
   },
   "outputs": [
    {
     "name": "stdout",
     "output_type": "stream",
     "text": [
      "Best Mean Cross Validation Score is 0.8806569897251457\n",
      "Best Mean Cross Validation Score is {'max_depth': 50, 'max_features': 'sqrt', 'n_estimators': 500}\n",
      "Train score is 0.9999955856332952\n",
      "Test score is 0.8673099070827246\n"
     ]
    }
   ],
   "source": [
    "print(f'Best Mean Cross Validation Score is {etc_grid.best_score_}')\n",
    "print(f'Best Mean Cross Validation Score is {etc_grid.best_params_}')\n",
    "print(f'Train score is {etc_grid.score(X_train,y_train)}')\n",
    "print(f'Test score is {etc_grid.score(X_test,y_test)}')"
   ]
  },
  {
   "cell_type": "markdown",
   "metadata": {
    "colab_type": "text",
    "id": "S7tkR1t7c14s"
   },
   "source": [
    "## \tXGBoost( best)"
   ]
  },
  {
   "cell_type": "code",
   "execution_count": 65,
   "metadata": {
    "colab": {},
    "colab_type": "code",
    "id": "rw9gZFXPc14t"
   },
   "outputs": [
    {
     "name": "stdout",
     "output_type": "stream",
     "text": [
      "Requirement already satisfied: xgboost in c:\\users\\k_tej\\appdata\\local\\programs\\python\\python37\\lib\\site-packages (1.0.2)\n",
      "Requirement already satisfied: scipy in c:\\users\\k_tej\\appdata\\local\\programs\\python\\python37\\lib\\site-packages (from xgboost) (1.4.1)\n",
      "Requirement already satisfied: numpy in c:\\users\\k_tej\\appdata\\local\\programs\\python\\python37\\lib\\site-packages (from xgboost) (1.17.4)\n",
      "Note: you may need to restart the kernel to use updated packages.\n"
     ]
    }
   ],
   "source": [
    "pip install xgboost"
   ]
  },
  {
   "cell_type": "code",
   "execution_count": 66,
   "metadata": {
    "colab": {},
    "colab_type": "code",
    "id": "ovbXAOm6c14u"
   },
   "outputs": [],
   "source": [
    "from xgboost import XGBClassifier\n",
    "from xgboost import XGBRegressor\n"
   ]
  },
  {
   "cell_type": "code",
   "execution_count": 67,
   "metadata": {
    "colab": {},
    "colab_type": "code",
    "id": "3vnK4s5cc14w"
   },
   "outputs": [
    {
     "data": {
      "text/plain": [
       "GridSearchCV(cv=5, error_score=nan,\n",
       "             estimator=XGBRegressor(base_score=None, booster=None,\n",
       "                                    colsample_bylevel=None,\n",
       "                                    colsample_bynode=None,\n",
       "                                    colsample_bytree=None,\n",
       "                                    early_stopping_rounds=2, gamma=None,\n",
       "                                    gpu_id=None, importance_type='gain',\n",
       "                                    interaction_constraints=None,\n",
       "                                    learning_rate=None, max_delta_step=None,\n",
       "                                    max_depth=None, min_child_weight=None,\n",
       "                                    missing=nan, monotone_c...\n",
       "                                    reg_lambda=None, scale_pos_weight=None,\n",
       "                                    subsample=None, tree_method=None,\n",
       "                                    validate_parameters=False, verbosity=None),\n",
       "             iid='deprecated', n_jobs=-1,\n",
       "             param_grid={'learning_rate': [0.05, 0.1], 'max_depth': [2, 4, 6],\n",
       "                         'min_child_weight': [0.1, 0.5, 1],\n",
       "                         'n_estimators': [500, 800, 1000],\n",
       "                         'subsample': [0.8, 0.9]},\n",
       "             pre_dispatch='2*n_jobs', refit=True, return_train_score=True,\n",
       "             scoring=None, verbose=0)"
      ]
     },
     "execution_count": 67,
     "metadata": {},
     "output_type": "execute_result"
    }
   ],
   "source": [
    "from  xgboost import XGBRegressor\n",
    "xgbc= XGBRegressor(random_state=42,early_stopping_rounds=2,n_jobs = -1 )\n",
    "xgbc_param = {\n",
    "              'max_depth' : [2,4,6],\n",
    "              'n_estimators' : [500,800,1000],\n",
    "              'learning_rate' : [.05,0.1],\n",
    "               'min_child_weight' : [.1,.5,1],\n",
    "                'subsample':[0.8,0.9]\n",
    "             }\n",
    "xgbc_grid = GridSearchCV(xgbc, xgbc_param,cv=5, return_train_score=True,n_jobs = -1 )\n",
    "xgbc_grid.fit(X_train,y_train)"
   ]
  },
  {
   "cell_type": "code",
   "execution_count": 68,
   "metadata": {
    "colab": {},
    "colab_type": "code",
    "id": "S63c-s0lc14z"
   },
   "outputs": [
    {
     "name": "stdout",
     "output_type": "stream",
     "text": [
      "Best Mean Cross Validation Score is 0.9007594283911888\n",
      "Best Mean Cross Validation Score is {'learning_rate': 0.05, 'max_depth': 4, 'min_child_weight': 0.1, 'n_estimators': 500, 'subsample': 0.8}\n",
      "Train score is 0.9889975064645601\n",
      "Test score is 0.889792236430764\n"
     ]
    }
   ],
   "source": [
    "print(f'Best Mean Cross Validation Score is {xgbc_grid.best_score_}')\n",
    "print(f'Best Mean Cross Validation Score is {xgbc_grid.best_params_}')\n",
    "print(f'Train score is {xgbc_grid.score(X_train,y_train)}')\n",
    "print(f'Test score is {xgbc_grid.score(X_test,y_test)}')"
   ]
  },
  {
   "cell_type": "markdown",
   "metadata": {
    "colab_type": "text",
    "id": "7Ou_cF7Gc140"
   },
   "source": [
    "Best Mean Cross Validation Score is 0.8981999648181408\n",
    "Best Mean Cross Validation Score is {'learning_rate': 0.1, 'max_depth': 4, 'min_child_weight': 1, 'n_estimators': 150, 'subsample': 0.8}\n",
    "Train score is 0.979396879296572\n",
    "Test score is 0.8776048030903614"
   ]
  },
  {
   "cell_type": "markdown",
   "metadata": {
    "colab_type": "text",
    "id": "SyEqREbGc141"
   },
   "source": [
    "# Predicting"
   ]
  },
  {
   "cell_type": "code",
   "execution_count": 125,
   "metadata": {
    "colab": {},
    "colab_type": "code",
    "id": "HbiNwqotc141"
   },
   "outputs": [],
   "source": [
    "classifiers={\n",
    "             'knn':grid_knn,\n",
    " \t      'poly':grid_poly,\n",
    "\t      'elastic':grid_elasticnet1,\n",
    "\t      'lasso':grid_lasso,\n",
    "\t      'ridge':grid_ridge,\n",
    "\t      'lsgd':grid_sgd,\t\t\n",
    "\t     'svrRbf':grid_search_SVM_Rbf,\n",
    "        'SVMlinear':grid_search_SVMlinear,\n",
    "\t   #  'svrl':grid_search_SVMlinear,\t\n",
    "             'svrp':grid_search_SVM_poly,\n",
    "             'svrsig':grid_search_SVM_sig,\n",
    "             'dtree':grid_dtree,\n",
    "             'bag_dtree1':bag_dtree1_grid,\n",
    "             'bag_svrP':bag_svrP_grid1,\n",
    "            'paste_dtree1': paste_dtree1_grid,\n",
    "             'paste_svrP': paste_svrP_grid,\n",
    "             'rfc': rfc_grid,          \n",
    "             'adc_dtree':adc_dtree_grid,\n",
    "             'gbc': gbc_grid,\n",
    "\t     'etc': etc_grid,\n",
    "             'xgbc': xgbc_grid}\n",
    "\n"
   ]
  },
  {
   "cell_type": "code",
   "execution_count": 126,
   "metadata": {
    "colab": {},
    "colab_type": "code",
    "id": "vKd6Hudcc145"
   },
   "outputs": [
    {
     "data": {
      "text/plain": [
       "dict_keys(['knn', 'poly', 'elastic', 'lasso', 'ridge', 'lsgd', 'svrRbf', 'SVMlinear', 'svrp', 'svrsig', 'dtree', 'bag_dtree1', 'bag_svrP', 'paste_dtree1', 'paste_svrP', 'rfc', 'adc_dtree', 'gbc', 'etc', 'xgbc'])"
      ]
     },
     "execution_count": 126,
     "metadata": {},
     "output_type": "execute_result"
    }
   ],
   "source": [
    "classifiers.keys()"
   ]
  },
  {
   "cell_type": "code",
   "execution_count": 127,
   "metadata": {
    "colab": {},
    "colab_type": "code",
    "id": "kI0hMxs-c147"
   },
   "outputs": [],
   "source": [
    "results_mean_std = []\n",
    "for  key, value in classifiers.items():\n",
    "    mean = value.cv_results_['mean_test_score'][value.best_index_]\n",
    "    std=value.cv_results_['std_test_score'][value.best_index_]\n",
    "     \n",
    "    results_mean_std.append({\n",
    "        \"model\": key,\n",
    "        \"mean\": mean,\n",
    "        \"std\": std\n",
    "    })"
   ]
  },
  {
   "cell_type": "code",
   "execution_count": 128,
   "metadata": {
    "colab": {},
    "colab_type": "code",
    "id": "PuTV3jvxc149"
   },
   "outputs": [],
   "source": [
    "# Create a Pandas DataFrame with the mean+std results\n",
    "accuracy_df = pd.DataFrame(results_mean_std, columns=['model', 'mean', 'std'])"
   ]
  },
  {
   "cell_type": "code",
   "execution_count": 129,
   "metadata": {
    "colab": {},
    "colab_type": "code",
    "id": "UVF8wYR3c14_"
   },
   "outputs": [
    {
     "data": {
      "text/html": [
       "<div>\n",
       "<style scoped>\n",
       "    .dataframe tbody tr th:only-of-type {\n",
       "        vertical-align: middle;\n",
       "    }\n",
       "\n",
       "    .dataframe tbody tr th {\n",
       "        vertical-align: top;\n",
       "    }\n",
       "\n",
       "    .dataframe thead th {\n",
       "        text-align: right;\n",
       "    }\n",
       "</style>\n",
       "<table border=\"1\" class=\"dataframe\">\n",
       "  <thead>\n",
       "    <tr style=\"text-align: right;\">\n",
       "      <th></th>\n",
       "      <th>model</th>\n",
       "      <th>mean</th>\n",
       "      <th>std</th>\n",
       "    </tr>\n",
       "  </thead>\n",
       "  <tbody>\n",
       "    <tr>\n",
       "      <th>19</th>\n",
       "      <td>xgbc</td>\n",
       "      <td>0.900759</td>\n",
       "      <td>0.009268</td>\n",
       "    </tr>\n",
       "    <tr>\n",
       "      <th>17</th>\n",
       "      <td>gbc</td>\n",
       "      <td>0.898066</td>\n",
       "      <td>0.025025</td>\n",
       "    </tr>\n",
       "    <tr>\n",
       "      <th>7</th>\n",
       "      <td>SVMlinear</td>\n",
       "      <td>0.886728</td>\n",
       "      <td>0.009445</td>\n",
       "    </tr>\n",
       "    <tr>\n",
       "      <th>8</th>\n",
       "      <td>svrp</td>\n",
       "      <td>0.886728</td>\n",
       "      <td>0.009445</td>\n",
       "    </tr>\n",
       "    <tr>\n",
       "      <th>14</th>\n",
       "      <td>paste_svrP</td>\n",
       "      <td>0.886718</td>\n",
       "      <td>0.009453</td>\n",
       "    </tr>\n",
       "    <tr>\n",
       "      <th>12</th>\n",
       "      <td>bag_svrP</td>\n",
       "      <td>0.886092</td>\n",
       "      <td>0.007799</td>\n",
       "    </tr>\n",
       "  </tbody>\n",
       "</table>\n",
       "</div>"
      ],
      "text/plain": [
       "         model      mean       std\n",
       "19        xgbc  0.900759  0.009268\n",
       "17         gbc  0.898066  0.025025\n",
       "7    SVMlinear  0.886728  0.009445\n",
       "8         svrp  0.886728  0.009445\n",
       "14  paste_svrP  0.886718  0.009453\n",
       "12    bag_svrP  0.886092  0.007799"
      ]
     },
     "execution_count": 129,
     "metadata": {},
     "output_type": "execute_result"
    }
   ],
   "source": [
    "# Show the accuracy dataframe\n",
    "\n",
    "accuracy_df.sort_values(by=['mean'], inplace=True,ascending=False)\n",
    "accuracy_df.head(6)"
   ]
  },
  {
   "cell_type": "code",
   "execution_count": 130,
   "metadata": {
    "colab": {},
    "colab_type": "code",
    "id": "X8ENocsGc15B"
   },
   "outputs": [],
   "source": [
    "accuracy_df.to_csv('accuracy_df_reg.csv')"
   ]
  },
  {
   "cell_type": "code",
   "execution_count": 131,
   "metadata": {
    "colab": {},
    "colab_type": "code",
    "id": "dlOl9NWYc15C"
   },
   "outputs": [],
   "source": [
    "# Create a prediction of all models on the test set\n",
    "predictions_all = {}\n",
    "for  key, value in classifiers.items():\n",
    "    # Get best estimator\n",
    "    best_model = value.best_estimator_\n",
    "    \n",
    "    # Predict test labels\n",
    "    predictions = best_model.predict(X_test)\n",
    "    \n",
    "    # Save predictions to a list\n",
    "    predictions_all[key] = predictions"
   ]
  },
  {
   "cell_type": "markdown",
   "metadata": {
    "colab_type": "text",
    "id": "JIbz9z5Tc15J"
   },
   "source": [
    "# Predictions"
   ]
  },
  {
   "cell_type": "code",
   "execution_count": null,
   "metadata": {
    "colab": {},
    "colab_type": "code",
    "id": "3-6ZFJyLc15K"
   },
   "outputs": [],
   "source": []
  },
  {
   "cell_type": "code",
   "execution_count": 132,
   "metadata": {
    "colab": {},
    "colab_type": "code",
    "id": "ydUquB1Lc15M"
   },
   "outputs": [],
   "source": [
    "# Creat a DataFrame for the predictions\n",
    "pred = pd.DataFrame(predictions_all)\n"
   ]
  },
  {
   "cell_type": "code",
   "execution_count": 133,
   "metadata": {
    "colab": {},
    "colab_type": "code",
    "id": "EqoQeTRfc15P"
   },
   "outputs": [
    {
     "data": {
      "text/html": [
       "<div>\n",
       "<style scoped>\n",
       "    .dataframe tbody tr th:only-of-type {\n",
       "        vertical-align: middle;\n",
       "    }\n",
       "\n",
       "    .dataframe tbody tr th {\n",
       "        vertical-align: top;\n",
       "    }\n",
       "\n",
       "    .dataframe thead th {\n",
       "        text-align: right;\n",
       "    }\n",
       "</style>\n",
       "<table border=\"1\" class=\"dataframe\">\n",
       "  <thead>\n",
       "    <tr style=\"text-align: right;\">\n",
       "      <th></th>\n",
       "      <th>knn</th>\n",
       "      <th>poly</th>\n",
       "      <th>elastic</th>\n",
       "      <th>lasso</th>\n",
       "      <th>ridge</th>\n",
       "      <th>lsgd</th>\n",
       "      <th>svrRbf</th>\n",
       "      <th>SVMlinear</th>\n",
       "      <th>svrp</th>\n",
       "      <th>svrsig</th>\n",
       "      <th>dtree</th>\n",
       "      <th>bag_dtree1</th>\n",
       "      <th>bag_svrP</th>\n",
       "      <th>paste_dtree1</th>\n",
       "      <th>paste_svrP</th>\n",
       "      <th>rfc</th>\n",
       "      <th>adc_dtree</th>\n",
       "      <th>gbc</th>\n",
       "      <th>etc</th>\n",
       "      <th>xgbc</th>\n",
       "    </tr>\n",
       "  </thead>\n",
       "  <tbody>\n",
       "    <tr>\n",
       "      <th>0</th>\n",
       "      <td>191316.666667</td>\n",
       "      <td>3.253103e+12</td>\n",
       "      <td>263655.245673</td>\n",
       "      <td>259870.500399</td>\n",
       "      <td>263521.453398</td>\n",
       "      <td>272629.926376</td>\n",
       "      <td>162055.963669</td>\n",
       "      <td>254817.964755</td>\n",
       "      <td>254819.805172</td>\n",
       "      <td>244163.328444</td>\n",
       "      <td>286141.333333</td>\n",
       "      <td>232192.761471</td>\n",
       "      <td>257278.157049</td>\n",
       "      <td>237621.630743</td>\n",
       "      <td>255256.464800</td>\n",
       "      <td>248263.043037</td>\n",
       "      <td>245304.347826</td>\n",
       "      <td>260515.844579</td>\n",
       "      <td>254483.242</td>\n",
       "      <td>260701.609375</td>\n",
       "    </tr>\n",
       "    <tr>\n",
       "      <th>1</th>\n",
       "      <td>115813.833333</td>\n",
       "      <td>-2.941955e+11</td>\n",
       "      <td>130804.224834</td>\n",
       "      <td>130781.591974</td>\n",
       "      <td>130814.334756</td>\n",
       "      <td>137554.655137</td>\n",
       "      <td>159054.859889</td>\n",
       "      <td>134840.328363</td>\n",
       "      <td>134838.932365</td>\n",
       "      <td>137463.600484</td>\n",
       "      <td>150666.727273</td>\n",
       "      <td>140839.729029</td>\n",
       "      <td>134080.917670</td>\n",
       "      <td>142412.197804</td>\n",
       "      <td>135404.545940</td>\n",
       "      <td>142752.851594</td>\n",
       "      <td>148469.444444</td>\n",
       "      <td>137308.774440</td>\n",
       "      <td>138715.486</td>\n",
       "      <td>139275.031250</td>\n",
       "    </tr>\n",
       "    <tr>\n",
       "      <th>2</th>\n",
       "      <td>134341.666667</td>\n",
       "      <td>-8.745137e+11</td>\n",
       "      <td>120690.792966</td>\n",
       "      <td>119038.654463</td>\n",
       "      <td>120609.227953</td>\n",
       "      <td>121724.748340</td>\n",
       "      <td>158512.365277</td>\n",
       "      <td>124147.988185</td>\n",
       "      <td>124147.385715</td>\n",
       "      <td>131170.327111</td>\n",
       "      <td>114437.500000</td>\n",
       "      <td>119787.322172</td>\n",
       "      <td>124618.148971</td>\n",
       "      <td>116311.843175</td>\n",
       "      <td>124553.700341</td>\n",
       "      <td>129188.570052</td>\n",
       "      <td>128667.921875</td>\n",
       "      <td>111925.890590</td>\n",
       "      <td>130819.522</td>\n",
       "      <td>109314.570312</td>\n",
       "    </tr>\n",
       "    <tr>\n",
       "      <th>3</th>\n",
       "      <td>204785.500000</td>\n",
       "      <td>-9.833320e+11</td>\n",
       "      <td>217482.466827</td>\n",
       "      <td>218046.405524</td>\n",
       "      <td>217544.683668</td>\n",
       "      <td>222833.215344</td>\n",
       "      <td>168689.732761</td>\n",
       "      <td>218872.267022</td>\n",
       "      <td>218871.402487</td>\n",
       "      <td>230843.638602</td>\n",
       "      <td>269860.333333</td>\n",
       "      <td>233293.508732</td>\n",
       "      <td>218950.605004</td>\n",
       "      <td>230615.004592</td>\n",
       "      <td>218818.445883</td>\n",
       "      <td>204502.489293</td>\n",
       "      <td>224484.265823</td>\n",
       "      <td>214952.861573</td>\n",
       "      <td>200781.596</td>\n",
       "      <td>211810.921875</td>\n",
       "    </tr>\n",
       "    <tr>\n",
       "      <th>4</th>\n",
       "      <td>100983.333333</td>\n",
       "      <td>2.180281e+11</td>\n",
       "      <td>92806.958086</td>\n",
       "      <td>93064.727174</td>\n",
       "      <td>92768.214995</td>\n",
       "      <td>93733.209996</td>\n",
       "      <td>121363.514758</td>\n",
       "      <td>91225.189475</td>\n",
       "      <td>91223.581158</td>\n",
       "      <td>116920.390837</td>\n",
       "      <td>69297.666667</td>\n",
       "      <td>96500.372422</td>\n",
       "      <td>92358.083719</td>\n",
       "      <td>96750.607354</td>\n",
       "      <td>91647.163215</td>\n",
       "      <td>106554.726851</td>\n",
       "      <td>109475.000000</td>\n",
       "      <td>94081.899390</td>\n",
       "      <td>95538.022</td>\n",
       "      <td>92989.203125</td>\n",
       "    </tr>\n",
       "    <tr>\n",
       "      <th>...</th>\n",
       "      <td>...</td>\n",
       "      <td>...</td>\n",
       "      <td>...</td>\n",
       "      <td>...</td>\n",
       "      <td>...</td>\n",
       "      <td>...</td>\n",
       "      <td>...</td>\n",
       "      <td>...</td>\n",
       "      <td>...</td>\n",
       "      <td>...</td>\n",
       "      <td>...</td>\n",
       "      <td>...</td>\n",
       "      <td>...</td>\n",
       "      <td>...</td>\n",
       "      <td>...</td>\n",
       "      <td>...</td>\n",
       "      <td>...</td>\n",
       "      <td>...</td>\n",
       "      <td>...</td>\n",
       "      <td>...</td>\n",
       "    </tr>\n",
       "    <tr>\n",
       "      <th>141</th>\n",
       "      <td>164733.333333</td>\n",
       "      <td>-4.407789e+11</td>\n",
       "      <td>116972.646187</td>\n",
       "      <td>113606.275501</td>\n",
       "      <td>116774.462221</td>\n",
       "      <td>110991.656707</td>\n",
       "      <td>154952.541148</td>\n",
       "      <td>113551.343468</td>\n",
       "      <td>113549.292967</td>\n",
       "      <td>134329.581575</td>\n",
       "      <td>142985.465116</td>\n",
       "      <td>137132.883724</td>\n",
       "      <td>113329.755331</td>\n",
       "      <td>138460.018243</td>\n",
       "      <td>113540.367258</td>\n",
       "      <td>139782.602666</td>\n",
       "      <td>127233.333333</td>\n",
       "      <td>129791.463817</td>\n",
       "      <td>142756.466</td>\n",
       "      <td>136083.000000</td>\n",
       "    </tr>\n",
       "    <tr>\n",
       "      <th>142</th>\n",
       "      <td>191333.333333</td>\n",
       "      <td>5.523534e+12</td>\n",
       "      <td>296546.892963</td>\n",
       "      <td>305214.113021</td>\n",
       "      <td>296886.362973</td>\n",
       "      <td>269926.999997</td>\n",
       "      <td>162059.157191</td>\n",
       "      <td>271694.003377</td>\n",
       "      <td>271692.526619</td>\n",
       "      <td>234706.834738</td>\n",
       "      <td>219170.833333</td>\n",
       "      <td>205622.453310</td>\n",
       "      <td>267814.222549</td>\n",
       "      <td>210848.472894</td>\n",
       "      <td>272217.314214</td>\n",
       "      <td>219676.306428</td>\n",
       "      <td>241174.193548</td>\n",
       "      <td>240283.100798</td>\n",
       "      <td>219783.202</td>\n",
       "      <td>228175.593750</td>\n",
       "    </tr>\n",
       "    <tr>\n",
       "      <th>143</th>\n",
       "      <td>131970.833333</td>\n",
       "      <td>2.532215e+11</td>\n",
       "      <td>157801.719452</td>\n",
       "      <td>157218.165674</td>\n",
       "      <td>157858.018382</td>\n",
       "      <td>165794.349708</td>\n",
       "      <td>159937.313697</td>\n",
       "      <td>153125.966628</td>\n",
       "      <td>153125.745024</td>\n",
       "      <td>132304.005305</td>\n",
       "      <td>147490.000000</td>\n",
       "      <td>141653.120623</td>\n",
       "      <td>154697.728096</td>\n",
       "      <td>144322.952094</td>\n",
       "      <td>153093.040190</td>\n",
       "      <td>144531.959182</td>\n",
       "      <td>148650.000000</td>\n",
       "      <td>152758.308715</td>\n",
       "      <td>146343.926</td>\n",
       "      <td>150209.390625</td>\n",
       "    </tr>\n",
       "    <tr>\n",
       "      <th>144</th>\n",
       "      <td>138066.666667</td>\n",
       "      <td>3.761256e+12</td>\n",
       "      <td>137983.490545</td>\n",
       "      <td>133945.629510</td>\n",
       "      <td>137826.737065</td>\n",
       "      <td>134744.278113</td>\n",
       "      <td>162022.523806</td>\n",
       "      <td>145494.941756</td>\n",
       "      <td>145495.962188</td>\n",
       "      <td>131999.062559</td>\n",
       "      <td>142985.465116</td>\n",
       "      <td>135528.189091</td>\n",
       "      <td>145050.664910</td>\n",
       "      <td>137037.045917</td>\n",
       "      <td>145530.629010</td>\n",
       "      <td>134178.471383</td>\n",
       "      <td>143116.363636</td>\n",
       "      <td>125006.289805</td>\n",
       "      <td>140584.274</td>\n",
       "      <td>138688.406250</td>\n",
       "    </tr>\n",
       "    <tr>\n",
       "      <th>145</th>\n",
       "      <td>180333.333333</td>\n",
       "      <td>4.155906e+09</td>\n",
       "      <td>170662.282299</td>\n",
       "      <td>168129.182952</td>\n",
       "      <td>170499.599808</td>\n",
       "      <td>173257.539245</td>\n",
       "      <td>172047.766464</td>\n",
       "      <td>170871.393350</td>\n",
       "      <td>170871.024953</td>\n",
       "      <td>201842.125315</td>\n",
       "      <td>208260.576923</td>\n",
       "      <td>186767.510825</td>\n",
       "      <td>171144.136266</td>\n",
       "      <td>186565.331385</td>\n",
       "      <td>170970.909801</td>\n",
       "      <td>189652.307474</td>\n",
       "      <td>191376.148936</td>\n",
       "      <td>176935.787450</td>\n",
       "      <td>185276.796</td>\n",
       "      <td>179376.406250</td>\n",
       "    </tr>\n",
       "  </tbody>\n",
       "</table>\n",
       "<p>146 rows × 20 columns</p>\n",
       "</div>"
      ],
      "text/plain": [
       "               knn          poly        elastic          lasso          ridge  \\\n",
       "0    191316.666667  3.253103e+12  263655.245673  259870.500399  263521.453398   \n",
       "1    115813.833333 -2.941955e+11  130804.224834  130781.591974  130814.334756   \n",
       "2    134341.666667 -8.745137e+11  120690.792966  119038.654463  120609.227953   \n",
       "3    204785.500000 -9.833320e+11  217482.466827  218046.405524  217544.683668   \n",
       "4    100983.333333  2.180281e+11   92806.958086   93064.727174   92768.214995   \n",
       "..             ...           ...            ...            ...            ...   \n",
       "141  164733.333333 -4.407789e+11  116972.646187  113606.275501  116774.462221   \n",
       "142  191333.333333  5.523534e+12  296546.892963  305214.113021  296886.362973   \n",
       "143  131970.833333  2.532215e+11  157801.719452  157218.165674  157858.018382   \n",
       "144  138066.666667  3.761256e+12  137983.490545  133945.629510  137826.737065   \n",
       "145  180333.333333  4.155906e+09  170662.282299  168129.182952  170499.599808   \n",
       "\n",
       "              lsgd         svrRbf      SVMlinear           svrp  \\\n",
       "0    272629.926376  162055.963669  254817.964755  254819.805172   \n",
       "1    137554.655137  159054.859889  134840.328363  134838.932365   \n",
       "2    121724.748340  158512.365277  124147.988185  124147.385715   \n",
       "3    222833.215344  168689.732761  218872.267022  218871.402487   \n",
       "4     93733.209996  121363.514758   91225.189475   91223.581158   \n",
       "..             ...            ...            ...            ...   \n",
       "141  110991.656707  154952.541148  113551.343468  113549.292967   \n",
       "142  269926.999997  162059.157191  271694.003377  271692.526619   \n",
       "143  165794.349708  159937.313697  153125.966628  153125.745024   \n",
       "144  134744.278113  162022.523806  145494.941756  145495.962188   \n",
       "145  173257.539245  172047.766464  170871.393350  170871.024953   \n",
       "\n",
       "            svrsig          dtree     bag_dtree1       bag_svrP  \\\n",
       "0    244163.328444  286141.333333  232192.761471  257278.157049   \n",
       "1    137463.600484  150666.727273  140839.729029  134080.917670   \n",
       "2    131170.327111  114437.500000  119787.322172  124618.148971   \n",
       "3    230843.638602  269860.333333  233293.508732  218950.605004   \n",
       "4    116920.390837   69297.666667   96500.372422   92358.083719   \n",
       "..             ...            ...            ...            ...   \n",
       "141  134329.581575  142985.465116  137132.883724  113329.755331   \n",
       "142  234706.834738  219170.833333  205622.453310  267814.222549   \n",
       "143  132304.005305  147490.000000  141653.120623  154697.728096   \n",
       "144  131999.062559  142985.465116  135528.189091  145050.664910   \n",
       "145  201842.125315  208260.576923  186767.510825  171144.136266   \n",
       "\n",
       "      paste_dtree1     paste_svrP            rfc      adc_dtree  \\\n",
       "0    237621.630743  255256.464800  248263.043037  245304.347826   \n",
       "1    142412.197804  135404.545940  142752.851594  148469.444444   \n",
       "2    116311.843175  124553.700341  129188.570052  128667.921875   \n",
       "3    230615.004592  218818.445883  204502.489293  224484.265823   \n",
       "4     96750.607354   91647.163215  106554.726851  109475.000000   \n",
       "..             ...            ...            ...            ...   \n",
       "141  138460.018243  113540.367258  139782.602666  127233.333333   \n",
       "142  210848.472894  272217.314214  219676.306428  241174.193548   \n",
       "143  144322.952094  153093.040190  144531.959182  148650.000000   \n",
       "144  137037.045917  145530.629010  134178.471383  143116.363636   \n",
       "145  186565.331385  170970.909801  189652.307474  191376.148936   \n",
       "\n",
       "               gbc         etc           xgbc  \n",
       "0    260515.844579  254483.242  260701.609375  \n",
       "1    137308.774440  138715.486  139275.031250  \n",
       "2    111925.890590  130819.522  109314.570312  \n",
       "3    214952.861573  200781.596  211810.921875  \n",
       "4     94081.899390   95538.022   92989.203125  \n",
       "..             ...         ...            ...  \n",
       "141  129791.463817  142756.466  136083.000000  \n",
       "142  240283.100798  219783.202  228175.593750  \n",
       "143  152758.308715  146343.926  150209.390625  \n",
       "144  125006.289805  140584.274  138688.406250  \n",
       "145  176935.787450  185276.796  179376.406250  \n",
       "\n",
       "[146 rows x 20 columns]"
      ]
     },
     "execution_count": 133,
     "metadata": {},
     "output_type": "execute_result"
    }
   ],
   "source": [
    "pred"
   ]
  },
  {
   "cell_type": "code",
   "execution_count": 134,
   "metadata": {
    "colab": {},
    "colab_type": "code",
    "id": "QM3UM7iJc15S"
   },
   "outputs": [],
   "source": [
    "pred.to_csv('pred_reg.csv')"
   ]
  },
  {
   "cell_type": "markdown",
   "metadata": {
    "colab_type": "text",
    "id": "5KNZSZLcc15T"
   },
   "source": [
    "# correlations"
   ]
  },
  {
   "cell_type": "code",
   "execution_count": null,
   "metadata": {
    "colab": {},
    "colab_type": "code",
    "id": "S91ir78Yc15U"
   },
   "outputs": [],
   "source": []
  },
  {
   "cell_type": "code",
   "execution_count": null,
   "metadata": {
    "colab": {},
    "colab_type": "code",
    "id": "tSnXQnONc15V"
   },
   "outputs": [],
   "source": []
  },
  {
   "cell_type": "code",
   "execution_count": 135,
   "metadata": {
    "colab": {},
    "colab_type": "code",
    "id": "3dQHE6uMc15a"
   },
   "outputs": [
    {
     "data": {
      "text/plain": [
       "Text(0.5, 1, 'Correlation of the test set label prediction between models')"
      ]
     },
     "execution_count": 135,
     "metadata": {},
     "output_type": "execute_result"
    },
    {
     "data": {
      "image/png": "[encoded data removed]",
      "text/plain": [
       "<Figure size 1152x648 with 2 Axes>"
      ]
     },
     "metadata": {
      "needs_background": "light"
     },
     "output_type": "display_data"
    }
   ],
   "source": [
    "# Plot a heatmap of all correlations for easier visualization\n",
    "fig, ax = plt.subplots(nrows=1, ncols=1, figsize=(16,9))\n",
    "g = sns.heatmap(pred.corr(), annot=True, cmap='YlGnBu', ax=ax)\n",
    "g.set_title('Correlation of the test set label prediction between models')"
   ]
  },
  {
   "cell_type": "code",
   "execution_count": 136,
   "metadata": {
    "colab": {},
    "colab_type": "code",
    "id": "qTOr-uMzc15c"
   },
   "outputs": [],
   "source": [
    "def get_redundant_pairs(df):\n",
    "    '''Get diagonal and lower triangular pairs of correlation matrix'''\n",
    "    pairs_to_drop = set()\n",
    "    cols = df.columns\n",
    "    for i in range(0, df.shape[1]):\n",
    "        for j in range(0, i+1):\n",
    "            pairs_to_drop.add((cols[i], cols[j]))\n",
    "    return pairs_to_drop\n",
    "\n",
    "def get_top_abs_correlations(df, n):\n",
    "    au_corr = df.corr().abs().unstack()\n",
    "    labels_to_drop = get_redundant_pairs(df)\n",
    "    au_corr = au_corr.drop(labels=labels_to_drop).sort_values(ascending=True)\n",
    "    return au_corr[0:n]"
   ]
  },
  {
   "cell_type": "code",
   "execution_count": null,
   "metadata": {
    "colab": {},
    "colab_type": "code",
    "id": "qjcbKZqFc15d"
   },
   "outputs": [],
   "source": []
  },
  {
   "cell_type": "code",
   "execution_count": 137,
   "metadata": {
    "colab": {},
    "colab_type": "code",
    "id": "cPyn61Z1c15f"
   },
   "outputs": [
    {
     "name": "stdout",
     "output_type": "stream",
     "text": [
      "Top Absolute Correlations\n",
      "poly  svrRbf          0.015904\n",
      "      svrsig          0.122178\n",
      "      dtree           0.201010\n",
      "      lsgd            0.252946\n",
      "knn   poly            0.256153\n",
      "poly  bag_dtree1      0.261649\n",
      "      paste_dtree1    0.262004\n",
      "      etc             0.266132\n",
      "      rfc             0.268318\n",
      "      adc_dtree       0.283229\n",
      "      xgbc            0.284196\n",
      "      elastic         0.296741\n",
      "      paste_svrP      0.297024\n",
      "      ridge           0.297143\n",
      "      SVMlinear       0.297490\n",
      "dtype: float64\n"
     ]
    }
   ],
   "source": [
    "print(\"Top Absolute Correlations\")\n",
    "print(get_top_abs_correlations(pred, 15))"
   ]
  },
  {
   "cell_type": "code",
   "execution_count": null,
   "metadata": {
    "colab": {},
    "colab_type": "code",
    "id": "kwoS9Begc15h"
   },
   "outputs": [],
   "source": []
  },
  {
   "cell_type": "code",
   "execution_count": 138,
   "metadata": {
    "colab": {},
    "colab_type": "code",
    "id": "AT8SMhw-c15i"
   },
   "outputs": [
    {
     "data": {
      "text/plain": [
       "<function __main__.get_top_abs_correlations(df, n)>"
      ]
     },
     "execution_count": 138,
     "metadata": {},
     "output_type": "execute_result"
    }
   ],
   "source": [
    "get_top_abs_correlations"
   ]
  },
  {
   "cell_type": "markdown",
   "metadata": {
    "colab_type": "text",
    "id": "kyUUOdLCc15m"
   },
   "source": [
    "# Voting top 5"
   ]
  },
  {
   "cell_type": "code",
   "execution_count": null,
   "metadata": {
    "colab": {},
    "colab_type": "code",
    "id": "EEGayo3_c15v"
   },
   "outputs": [],
   "source": []
  },
  {
   "cell_type": "code",
   "execution_count": null,
   "metadata": {
    "colab": {},
    "colab_type": "code",
    "id": "vQ1My9Wdc150"
   },
   "outputs": [],
   "source": []
  },
  {
   "cell_type": "code",
   "execution_count": null,
   "metadata": {
    "colab": {},
    "colab_type": "code",
    "id": "bNQWLt2yc159"
   },
   "outputs": [],
   "source": []
  },
  {
   "cell_type": "code",
   "execution_count": null,
   "metadata": {
    "colab": {},
    "colab_type": "code",
    "id": "fNSgpw8Sc15_"
   },
   "outputs": [],
   "source": []
  },
  {
   "cell_type": "code",
   "execution_count": null,
   "metadata": {
    "colab": {},
    "colab_type": "code",
    "id": "ALO1KIvoc16B"
   },
   "outputs": [],
   "source": []
  },
  {
   "cell_type": "code",
   "execution_count": null,
   "metadata": {
    "colab": {},
    "colab_type": "code",
    "id": "Rjwy3HcUc16D"
   },
   "outputs": [],
   "source": []
  },
  {
   "cell_type": "code",
   "execution_count": 139,
   "metadata": {
    "colab": {},
    "colab_type": "code",
    "id": "-9LSdxKgc16E"
   },
   "outputs": [],
   "source": [
    "from sklearn.ensemble import VotingClassifier\n",
    "from sklearn.ensemble import VotingRegressor"
   ]
  },
  {
   "cell_type": "markdown",
   "metadata": {},
   "source": [
    "## Voting top cv best"
   ]
  },
  {
   "cell_type": "code",
   "execution_count": null,
   "metadata": {
    "colab": {},
    "colab_type": "code",
    "id": "KJpNIGx4c16d"
   },
   "outputs": [],
   "source": []
  },
  {
   "cell_type": "code",
   "execution_count": 141,
   "metadata": {
    "colab": {},
    "colab_type": "code",
    "id": "8VSba9ZLc16f"
   },
   "outputs": [
    {
     "data": {
      "text/plain": [
       "VotingRegressor(estimators=[('gbc',\n",
       "                             GradientBoostingRegressor(alpha=0.9, ccp_alpha=0.0,\n",
       "                                                       criterion='friedman_mse',\n",
       "                                                       init=None,\n",
       "                                                       learning_rate=0.1,\n",
       "                                                       loss='ls', max_depth=3,\n",
       "                                                       max_features=None,\n",
       "                                                       max_leaf_nodes=None,\n",
       "                                                       min_impurity_decrease=0.0,\n",
       "                                                       min_impurity_split=None,\n",
       "                                                       min_samples_leaf=1,\n",
       "                                                       min_samples_split=2,\n",
       "                                                       min_weight_fraction_leaf=0.0,\n",
       "                                                       n_estimators=600,\n",
       "                                                       n_iter_no_change=...\n",
       "                             BaggingRegressor(base_estimator=SVR(C=100,\n",
       "                                                                 cache_size=200,\n",
       "                                                                 coef0=0.0,\n",
       "                                                                 degree=1,\n",
       "                                                                 epsilon=0.1,\n",
       "                                                                 gamma=100,\n",
       "                                                                 kernel='poly',\n",
       "                                                                 max_iter=-1,\n",
       "                                                                 shrinking=True,\n",
       "                                                                 tol=0.001,\n",
       "                                                                 verbose=False),\n",
       "                                              bootstrap=False,\n",
       "                                              bootstrap_features=False,\n",
       "                                              max_features=1.0, max_samples=1.0,\n",
       "                                              n_estimators=10, n_jobs=None,\n",
       "                                              oob_score=False, random_state=0,\n",
       "                                              verbose=0, warm_start=False))],\n",
       "                n_jobs=None, weights=None)"
      ]
     },
     "execution_count": 141,
     "metadata": {},
     "output_type": "execute_result"
    }
   ],
   "source": [
    "vclf1 = VotingRegressor(estimators=\n",
    "                              [#('bag_svrP', bag_svrP_grid1.best_estimator_), \n",
    "                               ('gbc', gbc_grid.best_estimator_), \n",
    "                               ('xgbc', xgbc_grid.best_estimator_),\n",
    "                               ('svrp', grid_search_SVM_poly.best_estimator_),\n",
    "                               ('SVMlinear', grid_search_SVMlinear.best_estimator_),\n",
    "                                ('paste_svrP',paste_svrP_grid.best_estimator_)\n",
    "                              ] )\n",
    "\n",
    "vclf1_cv = cross_val_score(vclf1,X_train,y_train,cv=5,  n_jobs = -1 )\n",
    "vclf1.fit(X_train,y_train)"
   ]
  },
  {
   "cell_type": "code",
   "execution_count": 142,
   "metadata": {
    "colab": {},
    "colab_type": "code",
    "id": "hGfRYKP0c16i"
   },
   "outputs": [
    {
     "name": "stdout",
     "output_type": "stream",
     "text": [
      "best mean cv score for VotingRegressor: 0.9023351308126177\n"
     ]
    }
   ],
   "source": [
    "print(\"best mean cv score for VotingRegressor:\",vclf1_cv.mean())"
   ]
  },
  {
   "cell_type": "markdown",
   "metadata": {},
   "source": [
    "### best"
   ]
  },
  {
   "cell_type": "code",
   "execution_count": 163,
   "metadata": {},
   "outputs": [
    {
     "name": "stdout",
     "output_type": "stream",
     "text": [
      "Best Mean Cross Validation Score is 0.9023351308126177\n",
      "Train score is 0.954370343397647\n",
      "Test score is 0.8887082400299998\n"
     ]
    }
   ],
   "source": [
    "print(f'Best Mean Cross Validation Score is {vclf1_cv.mean()}')\n",
    "#print(f'Best Mean Cross Validation Score is {sclf1.best_params_}')\n",
    "print(f'Train score is {vclf1.score(X_train,y_train)}')\n",
    "print(f'Test score is {vclf1.score(X_test,y_test)}')"
   ]
  },
  {
   "cell_type": "markdown",
   "metadata": {},
   "source": [
    "## Voting corr"
   ]
  },
  {
   "cell_type": "code",
   "execution_count": 158,
   "metadata": {
    "colab": {},
    "colab_type": "code",
    "id": "ytcB1EHZc16k"
   },
   "outputs": [
    {
     "name": "stdout",
     "output_type": "stream",
     "text": [
      "best mean cv score for VotingRegressor: -1234849518994964.8\n"
     ]
    }
   ],
   "source": [
    "vclf2 = VotingRegressor(estimators=\n",
    "                              [('poly',grid_poly.best_estimator_),\n",
    "     ('svrRbf',grid_search_SVM_Rbf.best_estimator_),\n",
    "            ('gbc',gbc_grid.best_estimator_),\n",
    "                              ], )\n",
    "\n",
    "vclf2_cv = cross_val_score(vclf2,X_train,y_train,cv=5,  n_jobs = -1 )\n",
    "vclf2.fit(X_train,y_train)\n",
    "print(\"best mean cv score for VotingRegressor:\",vclf2_cv.mean())"
   ]
  },
  {
   "cell_type": "code",
   "execution_count": 162,
   "metadata": {
    "colab": {},
    "colab_type": "code",
    "id": "sDqf5oLDc16p"
   },
   "outputs": [
    {
     "name": "stdout",
     "output_type": "stream",
     "text": [
      "best mean cv score for VotingRegressor: 0.6389456673414127\n"
     ]
    }
   ],
   "source": [
    "vclf3 = VotingRegressor(estimators=\n",
    "                              [('svrsig',grid_search_SVM_sig.best_estimator_),\n",
    "     ('svrRbf',grid_search_SVM_Rbf.best_estimator_),\n",
    "            ('gbc',gbc_grid.best_estimator_),\n",
    "                              ], )\n",
    "\n",
    "vclf3_cv = cross_val_score(vclf3,X_train,y_train,cv=5,  n_jobs = -1 )\n",
    "vclf3.fit(X_train,y_train)\n",
    "print(\"best mean cv score for VotingRegressor:\",vclf3_cv.mean())"
   ]
  },
  {
   "cell_type": "markdown",
   "metadata": {},
   "source": [
    "# Stacking"
   ]
  },
  {
   "cell_type": "markdown",
   "metadata": {},
   "source": [
    "## Stacking top cv"
   ]
  },
  {
   "cell_type": "code",
   "execution_count": 144,
   "metadata": {
    "colab": {},
    "colab_type": "code",
    "id": "fbQtpRJec16y"
   },
   "outputs": [],
   "source": [
    "from sklearn.ensemble import StackingRegressor\n",
    "from sklearn.ensemble import StackingClassifier"
   ]
  },
  {
   "cell_type": "code",
   "execution_count": 145,
   "metadata": {
    "colab": {},
    "colab_type": "code",
    "id": "I3Z2y6IBc16_"
   },
   "outputs": [],
   "source": [
    "sclf1 = StackingRegressor(estimators=\n",
    "                              [#('bag_svrP', bag_svrP_grid1.best_estimator_), \n",
    "                               ('gbc', gbc_grid.best_estimator_), \n",
    "                            #   ('xgbc', xgbc_grid.best_estimator_),\n",
    "                               ('svrp', grid_search_SVM_poly.best_estimator_),\n",
    "                               ('SVMlinear', grid_search_SVMlinear.best_estimator_),\n",
    "                                ('paste_svrP',paste_svrP_grid.best_estimator_)\n",
    "                              \n",
    "                              ], final_estimator=(xgbc_grid.best_estimator_))\n",
    "#sclf1_param = {\n",
    " #             'base_estimator__C': [100], 'base_estimator__degree': [1], 'base_estimator__gamma': 100\n",
    "  #           }\n",
    "#sclf1_grid = GridSearchCV(sclf1, sclf1_param,cv=5, return_train_score=True, )\n",
    "#sclf1_grid.fit(X_train,y_train)"
   ]
  },
  {
   "cell_type": "code",
   "execution_count": 146,
   "metadata": {},
   "outputs": [
    {
     "data": {
      "text/plain": [
       "StackingRegressor(cv=None,\n",
       "                  estimators=[('gbc',\n",
       "                               GradientBoostingRegressor(alpha=0.9,\n",
       "                                                         ccp_alpha=0.0,\n",
       "                                                         criterion='friedman_mse',\n",
       "                                                         init=None,\n",
       "                                                         learning_rate=0.1,\n",
       "                                                         loss='ls', max_depth=3,\n",
       "                                                         max_features=None,\n",
       "                                                         max_leaf_nodes=None,\n",
       "                                                         min_impurity_decrease=0.0,\n",
       "                                                         min_impurity_split=None,\n",
       "                                                         min_samples_leaf=1,\n",
       "                                                         min_samples_split=2,\n",
       "                                                         min_weight_fraction_leaf=0.0,\n",
       "                                                         n_estimators=600,\n",
       "                                                         n_iter_...\n",
       "                                               learning_rate=0.05,\n",
       "                                               max_delta_step=0, max_depth=4,\n",
       "                                               min_child_weight=0.1,\n",
       "                                               missing=nan,\n",
       "                                               monotone_constraints=None,\n",
       "                                               n_estimators=500, n_jobs=-1,\n",
       "                                               num_parallel_tree=1,\n",
       "                                               objective='reg:squarederror',\n",
       "                                               random_state=42, reg_alpha=0,\n",
       "                                               reg_lambda=1, scale_pos_weight=1,\n",
       "                                               subsample=0.8, tree_method=None,\n",
       "                                               validate_parameters=False,\n",
       "                                               verbosity=None),\n",
       "                  n_jobs=None, passthrough=False, verbose=0)"
      ]
     },
     "execution_count": 146,
     "metadata": {},
     "output_type": "execute_result"
    }
   ],
   "source": [
    "sclf1_cv = cross_val_score(sclf1,X_train,y_train,cv=5,  n_jobs = -1 )\n",
    "sclf1.fit(X_train,y_train)"
   ]
  },
  {
   "cell_type": "code",
   "execution_count": 147,
   "metadata": {},
   "outputs": [
    {
     "name": "stdout",
     "output_type": "stream",
     "text": [
      "best mean cv score for StackingRegressor: 0.8684222346767229\n"
     ]
    }
   ],
   "source": [
    "print(\"best mean cv score for StackingRegressor:\",sclf1_cv.mean())"
   ]
  },
  {
   "cell_type": "code",
   "execution_count": 148,
   "metadata": {
    "colab": {},
    "colab_type": "code",
    "id": "ClFoG6euc17B"
   },
   "outputs": [
    {
     "name": "stdout",
     "output_type": "stream",
     "text": [
      "Best Mean Cross Validation Score is 0.8684222346767229\n",
      "Train score is 0.9416318184303138\n",
      "Test score is 0.8888777470262385\n"
     ]
    }
   ],
   "source": [
    "print(f'Best Mean Cross Validation Score is {sclf1_cv.mean()}')\n",
    "#print(f'Best Mean Cross Validation Score is {sclf1.best_params_}')\n",
    "print(f'Train score is {sclf1.score(X_train,y_train)}')\n",
    "print(f'Test score is {sclf1.score(X_test,y_test)}')"
   ]
  },
  {
   "cell_type": "markdown",
   "metadata": {},
   "source": [
    "Best Mean Cross Validation Score is 0.8418512469334931\n",
    "Train score is 0.8933576086337154\n",
    "Test score is 0.8785013636451742"
   ]
  },
  {
   "cell_type": "markdown",
   "metadata": {},
   "source": [
    "## stacking least corr"
   ]
  },
  {
   "cell_type": "code",
   "execution_count": 149,
   "metadata": {
    "colab": {},
    "colab_type": "code",
    "id": "xF6-4dGMc17D"
   },
   "outputs": [],
   "source": [
    "sclf2 = StackingRegressor(estimators=\n",
    "                              [\n",
    "     ('svrRbf',grid_search_SVM_Rbf.best_estimator_),\n",
    "            ('gbc',gbc_grid.best_estimator_)\n",
    "                              ], final_estimator=(grid_poly.best_estimator_),cv = 5)\n",
    "#sclf2_param = {\n",
    "            #  'final_estimator__degree' : [1,2,3]\n",
    "             # 'stack_method':['auto', 'predict_proba']\n",
    "#             }\n",
    "#sclf2_grid = GridSearchCV(sclf2, sclf2_param,cv=5, return_train_score=True, )\n",
    "#sclf2_grid.fit(X_train,y_train)"
   ]
  },
  {
   "cell_type": "code",
   "execution_count": 150,
   "metadata": {},
   "outputs": [
    {
     "data": {
      "text/plain": [
       "StackingRegressor(cv=5,\n",
       "                  estimators=[('svrRbf',\n",
       "                               SVR(C=10000, cache_size=200, coef0=0.0, degree=3,\n",
       "                                   epsilon=0.1, gamma=0.1, kernel='rbf',\n",
       "                                   max_iter=-1, shrinking=True, tol=0.001,\n",
       "                                   verbose=False)),\n",
       "                              ('gbc',\n",
       "                               GradientBoostingRegressor(alpha=0.9,\n",
       "                                                         ccp_alpha=0.0,\n",
       "                                                         criterion='friedman_mse',\n",
       "                                                         init=None,\n",
       "                                                         learning_rate=0.1,\n",
       "                                                         loss='ls', max_depth=3,\n",
       "                                                         max_features=None,\n",
       "                                                         max_leaf_nodes=None,\n",
       "                                                         m...\n",
       "                                                         validation_fraction=0.1,\n",
       "                                                         verbose=0,\n",
       "                                                         warm_start=False))],\n",
       "                  final_estimator=Pipeline(memory=None,\n",
       "                                           steps=[('polynomialfeatures',\n",
       "                                                   PolynomialFeatures(degree=2,\n",
       "                                                                      include_bias=True,\n",
       "                                                                      interaction_only=False,\n",
       "                                                                      order='C')),\n",
       "                                                  ('linearregression',\n",
       "                                                   LinearRegression(copy_X=True,\n",
       "                                                                    fit_intercept=True,\n",
       "                                                                    n_jobs=None,\n",
       "                                                                    normalize=False))],\n",
       "                                           verbose=False),\n",
       "                  n_jobs=None, passthrough=False, verbose=0)"
      ]
     },
     "execution_count": 150,
     "metadata": {},
     "output_type": "execute_result"
    }
   ],
   "source": [
    "sclf2_cv = cross_val_score(sclf2,X_train,y_train,cv=5,  n_jobs = -1 )\n",
    "sclf2.fit(X_train,y_train)"
   ]
  },
  {
   "cell_type": "code",
   "execution_count": 151,
   "metadata": {
    "colab": {},
    "colab_type": "code",
    "id": "Gfc5xQg-c17F"
   },
   "outputs": [
    {
     "name": "stdout",
     "output_type": "stream",
     "text": [
      "Best Mean Cross Validation Score is 0.8987931247729136\n",
      "Train score is 0.9851821078742296\n",
      "Test score is 0.8903872032385729\n"
     ]
    }
   ],
   "source": [
    "print(f'Best Mean Cross Validation Score is {sclf2_cv.mean()}')\n",
    "#print(f'Best Mean Cross Validation Score is {sclf1.best_params_}')\n",
    "print(f'Train score is {sclf2.score(X_train,y_train)}')\n",
    "print(f'Test score is {sclf2.score(X_test,y_test)}')"
   ]
  },
  {
   "cell_type": "code",
   "execution_count": null,
   "metadata": {
    "colab": {},
    "colab_type": "code",
    "id": "AM-2srV-c17T"
   },
   "outputs": [],
   "source": []
  },
  {
   "cell_type": "code",
   "execution_count": null,
   "metadata": {
    "colab": {},
    "colab_type": "code",
    "id": "dGHSo3Udc17e"
   },
   "outputs": [],
   "source": []
  },
  {
   "cell_type": "code",
   "execution_count": null,
   "metadata": {
    "colab": {},
    "colab_type": "code",
    "id": "bly_1lLHc17g"
   },
   "outputs": [],
   "source": []
  }
 ],
 "metadata": {
  "colab": {
   "collapsed_sections": [],
   "name": "Copy of HW2_Regression_Vijay.ipynb",
   "provenance": []
  },
  "kernelspec": {
   "display_name": "Python 3",
   "language": "python",
   "name": "python3"
  },
  "language_info": {
   "codemirror_mode": {
    "name": "ipython",
    "version": 3
   },
   "file_extension": ".py",
   "mimetype": "text/x-python",
   "name": "python",
   "nbconvert_exporter": "python",
   "pygments_lexer": "ipython3",
   "version": "3.7.6"
  },
  "toc": {
   "base_numbering": 1,
   "nav_menu": {},
   "number_sections": true,
   "sideBar": false,
   "skip_h1_title": false,
   "title_cell": "Table of Contents",
   "title_sidebar": "Contents",
   "toc_cell": false,
   "toc_position": {
    "height": "692.717px",
    "left": "0px",
    "right": "1324px",
    "top": "107px",
    "width": "212px"
   },
   "toc_section_display": true,
   "toc_window_display": true
  },
  "varInspector": {
   "cols": {
    "lenName": 16,
    "lenType": 16,
    "lenVar": 40
   },
   "kernels_config": {
    "python": {
     "delete_cmd_postfix": "",
     "delete_cmd_prefix": "del ",
     "library": "var_list.py",
     "varRefreshCmd": "print(var_dic_list())"
    },
    "r": {
     "delete_cmd_postfix": ") ",
     "delete_cmd_prefix": "rm(",
     "library": "var_list.r",
     "varRefreshCmd": "cat(var_dic_list()) "
    }
   },
   "types_to_exclude": [
    "module",
    "function",
    "builtin_function_or_method",
    "instance",
    "_Feature"
   ],
   "window_display": false
  }
 },
 "nbformat": 4,
 "nbformat_minor": 1
}
